{
 "cells": [
  {
   "cell_type": "markdown",
   "metadata": {},
   "source": [
    "# WALDO RIVIER 07.12.2018 \n",
    "Applied Data Science : Machine Learning\n",
    "---\n",
    "Exercices module 3 Predicting houses prices\n",
    "---\n"
   ]
  },
  {
   "cell_type": "code",
   "execution_count": 75,
   "metadata": {},
   "outputs": [],
   "source": [
    "import os\n",
    "import numpy as np\n",
    "import pandas as pd\n",
    "import matplotlib.pyplot as plt\n",
    "import seaborn as sns\n",
    "\n",
    "from sklearn.linear_model import SGDRegressor\n",
    "from sklearn.linear_model import HuberRegressor\n",
    "from sklearn.dummy import DummyRegressor\n",
    "from sklearn.linear_model import LinearRegression\n",
    "from sklearn.linear_model import Ridge\n",
    "from sklearn.preprocessing import PolynomialFeatures\n",
    "from sklearn.metrics import mean_squared_error as mse\n",
    "from sklearn.metrics import mean_absolute_error as mae\n",
    "\n",
    "from scipy.linalg import lstsq\n",
    "from scipy import stats\n",
    "\n",
    "from sklearn.metrics import r2_score\n",
    "from sklearn.preprocessing import scale\n",
    "from sklearn.model_selection import train_test_split\n",
    "\n",
    "import itertools\n",
    "import math\n",
    "import random"
   ]
  },
  {
   "cell_type": "markdown",
   "metadata": {},
   "source": [
    "Class which implements utilities to access house price meta data \n",
    "--\n",
    "- columns, column's type, etc...\n",
    "- transformation of ordinal column code mapping, tansfomation of entire ordinal columns of a dataframe, etc...\n",
    "- meta data are stored in a text file"
   ]
  },
  {
   "cell_type": "code",
   "execution_count": 76,
   "metadata": {},
   "outputs": [],
   "source": [
    "class meta_data:\n",
    "    _working_dir = None\n",
    "    _df_meta = None\n",
    "\n",
    "    def __init__(self, working_dir):\n",
    "        self._working_dir = working_dir\n",
    "        self._load_meta_data()\n",
    "\n",
    "    def _load_meta_data(self):\n",
    "        data_file = os.path.join(self._working_dir, 'meta_data.txt')\n",
    "\n",
    "        self._df_meta = pd.DataFrame.from_csv(data_file, sep='\\t')\n",
    "        self._df_meta.reset_index(inplace=True)\n",
    "        self._df_meta.ffill(inplace=True)\n",
    "\n",
    "    def _get_type_of_col(self, col):\n",
    "        try:\n",
    "            return self._df_meta[self._df_meta['column'] == col]['type'].iloc[0]\n",
    "        except:\n",
    "            print (\"Column not found in meta data \" + col)\n",
    "    \n",
    "    def get_cols_of_type(self, type):\n",
    "        cols = self._df_meta.copy()\n",
    "        cols = cols[cols.type==type]['column'].drop_duplicates()\n",
    "        return cols\n",
    "\n",
    "    def get_dict_ordinal(self, col):\n",
    "        dict_ordinal = None\n",
    "        if self._get_type_of_col(col) == 'Ordinal':\n",
    "            df_ordinal = self._df_meta[self._df_meta['column'] == col]\n",
    "            codes = df_ordinal.code.values\n",
    "            try:\n",
    "                codes = codes.astype(float)\n",
    "            except:\n",
    "                codes = [i.strip() for i in df_ordinal.code.values]\n",
    "         \n",
    "            dict_ordinal = dict(zip(codes, df_ordinal.ordinal_value.values))\n",
    "        return dict_ordinal\n",
    "\n",
    "    #------------------------------------------------------------------------------\n",
    "    # return dictionary build on code and code designation (used in special case\n",
    "    # for MS SubClass feature) \n",
    "    #------------------------------------------------------------------------------\n",
    "    def get_dict_nominal(self, col):\n",
    "        dict_nominal = None\n",
    "        if self._get_type_of_col(col) == 'Nominal':\n",
    "            df_nominal = self._df_meta[self._df_meta['column'] == col]\n",
    "            codes = df_nominal.code.values\n",
    "            try:\n",
    "                codes = codes.astype(int)\n",
    "            except:\n",
    "                codes = [i.strip() for i in df_nominal.code.values]\n",
    "         \n",
    "            dict_nominal = dict(zip(codes, df_nominal.code_designation.values))\n",
    "        return dict_nominal\n",
    "\n",
    "    def _map_col(self, df, col, type):\n",
    "        if df.columns.contains(col):\n",
    "            if self._get_type_of_col(col) == type:\n",
    "                dict_ordinal = self.get_dict_ordinal(col)\n",
    "                df[col] = df[col].map(dict_ordinal)\n",
    "    \n",
    "    def _map_ordinal_col(self, df, col):\n",
    "       self._map_col(df, col, 'Ordinal')\n",
    "       \n",
    "    # all ordinal columns's code will be associated with numerical values as defined in meta data\n",
    "    def map_ordinal_cols(self, df):\n",
    "        cols = self.get_cols_of_type('Ordinal')\n",
    "        for col in cols:\n",
    "            self._map_ordinal_col(df, col)"
   ]
  },
  {
   "cell_type": "markdown",
   "metadata": {},
   "source": [
    "Class which implements utilities to manage house price data\n",
    "--\n",
    "- encapsulate train data set\n",
    "- encapsulate data set to predict"
   ]
  },
  {
   "cell_type": "code",
   "execution_count": 77,
   "metadata": {},
   "outputs": [],
   "source": [
    "class sample_data:\n",
    "    _meta_data = None\n",
    "    _working_dir = None\n",
    "    _target = None\n",
    " \n",
    "    _df_test_data = None\n",
    "    _df_train_data = None\n",
    "    _df_train_data_orig = None\n",
    " \n",
    "    def __init__(self, working_dir, target, meta_data):\n",
    "        assert working_dir is not None and len(working_dir) > 0\n",
    "        assert target is not None and len(target) > 0\n",
    "        assert meta_data is not None\n",
    "        \n",
    "        self._working_dir = working_dir\n",
    "        self._meta_data = meta_data\n",
    "        self._target = target\n",
    "\n",
    "    def load_data(self):\n",
    "        self._load_train_data()\n",
    "        self._load_test_data()\n",
    "        \n",
    "        \n",
    "    def _load_train_data(self):\n",
    "        data_file = os.path.join(self._working_dir, 'house-prices.csv')\n",
    " \n",
    "        # save a copy of original train data     \n",
    "        self._df_train_data_orig = pd.read_csv(data_file)\n",
    " \n",
    "    #------------------------------------------------------------------------------ \n",
    "    # load the data set to predict Saleprice\n",
    "    #------------------------------------------------------------------------------ \n",
    "    def _load_test_data(self):\n",
    "        data_file = os.path.join(self._working_dir, 'house-prices-test.csv')\n",
    "        self._df_test_data = pd.read_csv(data_file)\n",
    "        \n",
    "    #------------------------------------------------------------------------------    \n",
    "    # Prepare data for the training phase\n",
    "    #------------------------------------------------------------------------------\n",
    "    def prepare_train_data(self):\n",
    "        assert self._df_train_data_orig is not None \n",
    "\n",
    "        # drop all columns which contains more than one NAN value\n",
    "        # motivations :\n",
    "        #   a. number of features removed is not dramatically important (20 on 81)\n",
    "        #   b. 7 features contains only 1 NAN value; without big effort and modification of \n",
    "        #        the informations, we can  easyly keep them\n",
    "\n",
    "        self._df_train_data = self._df_train_data_orig.dropna(thresh=2429, axis=1).copy()\n",
    "        self._df_train_data.fillna(method='ffill', inplace=True)\n",
    "\n",
    "        # takes the log the target\n",
    "        self._df_train_data[self._target] = np.log(self._df_train_data[self._target])\n",
    "\n",
    "        # all ordinal features will be replaced with numerical (subjective) evaluations\n",
    "        self._meta_data.map_ordinal_cols(self._df_train_data)\n",
    "\n",
    "        # special case for features MS SubClass; apply transformation in order \n",
    "        # to use nominal text in place of numerical codes\n",
    "        col = 'MS SubClass'\n",
    "        dict_nominal = self._meta_data.get_dict_nominal(col)\n",
    "        self._df_train_data[col] = self._df_train_data[col].map(dict_nominal)\n",
    "\n",
    "        # apply some transformation to \"normalize\" the distribution\n",
    "        self.apply_transformation('Fireplaces')\n",
    "        self.apply_transformation('Year Built')\n",
    "        \n",
    "    #------------------------------------------------------------------------------\n",
    "    # return the prediction data; ordinal columns will be mapped\n",
    "    #------------------------------------------------------------------------------       \n",
    "    def prepare_prediction_data(self):\n",
    "        assert self._df_test_data is not None\n",
    "\n",
    "        self._meta_data.map_ordinal_cols(self._df_test_data) \n",
    "    \n",
    "    #------------------------------------------------------------------------------\n",
    "    # return the features which were removed in function prepare_train_data above\n",
    "    #------------------------------------------------------------------------------\n",
    "    def get_removed_cols(self): \n",
    "        return self._df_train_data_orig.columns.difference(set(self._df_train_data.columns))\n",
    "        \n",
    "    def get_cols_of_type(self, df, type):\n",
    "        cols = df.columns.intersection(self._meta_data.get_cols_of_type(type))\n",
    "        return cols\n",
    " \n",
    "    def get_cols_wo_target(self):\n",
    "        assert self._df_train_data is not None\n",
    "\n",
    "        cols = self._df_train_data.columns.copy()\n",
    "        cols = cols.drop(self._target)\n",
    "        cols = cols.drop(['Order', 'PID'])\n",
    "        return cols\n",
    "\n",
    "    #------------------------------------------------------------------------------\n",
    "    # iterate over all features (eventually encoded) and plot SalePrice as response\n",
    "    #------------------------------------------------------------------------------\n",
    "    def iterate_pair_plot(self):\n",
    "        col_cnt = len(self.get_cols_wo_target())\n",
    "\n",
    "        for i in np.arange(0, col_cnt):\n",
    "            self._pair_plot(i)\n",
    "   \n",
    "    def pair_plot(self, col):\n",
    "        assert self._df_train_data.columns.contains(col)\n",
    "\n",
    "        df = self._df_train_data.copy()\n",
    "        df = df[[self._target, col]]\n",
    "       \n",
    "        if self._meta_data._get_type_of_col(col) == 'Nominal':\n",
    "            df = pd.get_dummies(df, col)    \n",
    "\n",
    "        cols = df.columns.drop(self._target)\n",
    "        g = sns.pairplot(df, x_vars=cols,\n",
    "            y_vars=[self._target], \n",
    "            kind=\"reg\",\n",
    "            plot_kws={'line_kws':{'color':'red'}})\n",
    "        plt.show()\n",
    "\n",
    "    #------------------------------------------------------------------------------\n",
    "    # plot histogram of a features (eventually encoded) \n",
    "    #------------------------------------------------------------------------------\n",
    "    def hist_plot(self, col):\n",
    "        assert self._df_train_data.columns.contains(col)\n",
    "\n",
    "        df = self._df_train_data.copy()\n",
    "        df = df[col]\n",
    "      \n",
    "        if self._meta_data._get_type_of_col(col) == 'Nominal':\n",
    "            df = pd.get_dummies(df, col)    \n",
    "\n",
    "        df.hist()\n",
    "        plt.show()\n",
    "        \n",
    "    #------------------------------------------------------------------------------\n",
    "    # return the Saleprice distribution of train data set\n",
    "    #------------------------------------------------------------------------------\n",
    "    def get_train_distribution(self):\n",
    "        assert self._df_train_data is not None\n",
    "\n",
    "        return np.exp(self._df_train_data.SalePrice).describe()\n",
    "    \n",
    "    #------------------------------------------------------------------------------\n",
    "    # apply some transformations on some features\n",
    "    #------------------------------------------------------------------------------\n",
    "    def _indicator(self, col):\n",
    "        def _f_fire_places(x):\n",
    "            if x >= 1:\n",
    "                return 1\n",
    "            else:\n",
    "                return 0\n",
    "            return _f\n",
    "\n",
    "        def _f_year_built(x):\n",
    "            if x > 1970:\n",
    "                return 'after_1970'\n",
    "            else:\n",
    "                return 'before_1970'\n",
    "\n",
    "        if col == 'Fireplaces':\n",
    "            return _f_fire_places\n",
    "        elif col == 'Year Built':\n",
    "            return _f_year_built\n",
    "        \n",
    "        \n",
    "    def apply_transformation(self, col):\n",
    "        assert self._df_train_data.columns.contains(col)\n",
    "\n",
    "        indicator = self._indicator(col)\n",
    "        assert indicator is not None\n",
    "        self._df_train_data[col] = self._df_train_data[col].apply(indicator)\n",
    "\n",
    "    #------------------------------------------------------------------------------\n",
    "    # inner class used to store result of runs\n",
    "    #------------------------------------------------------------------------------\n",
    "    class result:\n",
    "        _metric = None\n",
    "        comb_cols = None\n",
    "        cols = None\n",
    "        lr = None\n",
    "        train_score = None\n",
    "        test_score = None\n",
    "        test_baseline  = None\n",
    "        PID_pred = None\n",
    "        y_te = None\n",
    "        y_te_pred = None\n",
    "\n",
    "        def __init__(self, metric):\n",
    "            self._metric = metric\n",
    "\n",
    "        def as_dict(self):\n",
    "            return {'metric' : self._metric,\n",
    "                    'PID_test' : self.PID_pred,\n",
    "                    'comb_cols' : self.comb_cols,\n",
    "                    'cols' : self.cols,\n",
    "                    'lr' : self.lr,\n",
    "                    'train_score' : self.train_score,\n",
    "                    'test_score' : self.test_score,\n",
    "                    'test_baseline' : self.test_baseline,\n",
    "                    'y_te' : self.y_te,\n",
    "                    'y_te_pred' : self.y_te_pred}"
   ]
  },
  {
   "cell_type": "markdown",
   "metadata": {},
   "source": [
    "return number of arrangments of k objects taken among n objects"
   ]
  },
  {
   "cell_type": "code",
   "execution_count": 78,
   "metadata": {},
   "outputs": [],
   "source": [
    "def anp(n, k):\n",
    "    return math.factorial(n) / (math.factorial(k) * math.factorial(n - k))"
   ]
  },
  {
   "cell_type": "markdown",
   "metadata": {},
   "source": [
    "Evaluates a model \n",
    "--\n",
    "\n",
    "- reg_type : type of regression to apply (linear, huber, ridge)\n",
    "- alpha : parameter for ridge regression\n",
    "- metric : metric to apply (median, mean)\n",
    "- sample_data : train data\n",
    "- comb_cols : sublist of features taken among train data \n",
    "- results : list of results into which the result of the run will be added"
   ]
  },
  {
   "cell_type": "code",
   "execution_count": 79,
   "metadata": {},
   "outputs": [],
   "source": [
    "def run_train(reg_type, alpha, metric, sample_data, comb_cols, results):\n",
    "    try:\n",
    "        df = sample_data._df_train_data.copy()\n",
    "        y = df[sample_data._target]\n",
    "        df = df[comb_cols]\n",
    "        \n",
    "        cols = sample_data.get_cols_of_type(df, 'Nominal')\n",
    "        if len(cols) > 0:\n",
    "            df = pd.get_dummies(df, columns=cols)\n",
    "\n",
    "        _X = df.values\n",
    "        X_tr, X_te, y_tr, y_te = train_test_split(\n",
    "           _X, y.values, train_size = 0.5, test_size = 0.5, random_state=1)\n",
    "\n",
    "        if reg_type == 'linear':\n",
    "            reg = LinearRegression()\n",
    "        elif reg_type == 'huber':\n",
    "            reg = HuberRegressor(1.35)\n",
    "            y_tr = y_tr.flatten()\n",
    "        elif reg_type == 'ridge':    \n",
    "            if alpha is not None: \n",
    "                reg = Ridge(alpha)\n",
    "\n",
    "        reg.fit(X_tr, y_tr)\n",
    "        y_pred_tr = reg.predict(X_tr)\n",
    "        y_pred_te = reg.predict(X_te)\n",
    "   \n",
    "        # stores the results\n",
    "        r = sample_data.result(metric)\n",
    "\n",
    "        # evaluate the metric\n",
    "        dummy = DummyRegressor(strategy=metric)\n",
    "        dummy.fit(X_tr, y_tr)\n",
    "        y_pred_base = dummy.predict(X_te)   \n",
    "\n",
    "        if metric == 'mean':\n",
    "            r.train_score = np.sqrt(mse(y_pred_tr, y_tr))\n",
    "            r.test_score = np.sqrt(mse(y_pred_te, y_te))\n",
    "            r.test_baseline = np.sqrt(mse(y_pred_base, y_te))\n",
    "        elif metric == 'median':\n",
    "            r.train_score = mae(y_pred_tr, y_tr)\n",
    "            r.test_score = mae(y_pred_te, y_te)\n",
    "            r.test_baseline = mae(y_pred_base, y_te)\n",
    "           \n",
    "        r.comb_cols = comb_cols\n",
    "        r.cols = df.columns\n",
    "        r.lr = reg\n",
    "        r.PID_test = None\n",
    "        r.y_te = y_te\n",
    "        r.y_te_pred = y_pred_te\n",
    "        results.append(r)\n",
    "        \n",
    "    except:\n",
    "        print(comb_cols)"
   ]
  },
  {
   "cell_type": "markdown",
   "metadata": {},
   "source": [
    "Build prediction\n",
    "--\n",
    "\n",
    "- optimal train : best result of a list of runs\n",
    "- sample_data : data which contains the test data set to predict\n"
   ]
  },
  {
   "cell_type": "code",
   "execution_count": 80,
   "metadata": {},
   "outputs": [],
   "source": [
    "def build_prediction(optimal_train, sample_data):\n",
    "    assert sample_data is not None\n",
    "    assert optimal_train is not None\n",
    "\n",
    "    try:\n",
    "        id = 'PID'\n",
    "        df = sample_data._df_test_data.copy()\n",
    "        PID = df[id]\n",
    "\n",
    "        df = df[optimal_train.comb_cols]\n",
    "        \n",
    "        cols = sample_data.get_cols_of_type(df, 'Nominal')\n",
    "        if len(cols) > 0:\n",
    "            df = pd.get_dummies(df, columns=cols)\n",
    "\n",
    "        # re-index test set in order to be compatible with train set \n",
    "        df = df.reindex(columns=optimal_train.cols)\n",
    "        df.fillna(0, inplace=True)\n",
    "\n",
    "        X = df.values\n",
    "        y_pred_te = optimal_train.lr.predict(X)\n",
    "  \n",
    "        prediction = sample_data.result(optimal_train.metric)\n",
    "        prediction.PID_test = PID\n",
    "        prediction.comb_cols = optimal_train.comb_cols\n",
    "        prediction.cols = df.columns\n",
    "\n",
    "        # transform \n",
    "        prediction.y_te_pred = np.exp(y_pred_te)\n",
    "\n",
    "        # format to a 2-column DataFrame\n",
    "        df = pd.concat([pd.DataFrame(prediction.PID_test), \n",
    "                        pd.DataFrame(prediction.y_te_pred)], axis=1)\n",
    "        df.columns = ['PID', 'SalePrice']\n",
    "        return df\n",
    "        \n",
    "    except:\n",
    "        print(optimal_train.comb_cols)"
   ]
  },
  {
   "cell_type": "markdown",
   "metadata": {},
   "source": [
    "Class which implements functionalities to test and select an otptimal model\n",
    "--"
   ]
  },
  {
   "cell_type": "code",
   "execution_count": 81,
   "metadata": {},
   "outputs": [],
   "source": [
    "class model_selector:\n",
    "    _prediction_base_file_name = 'house-prices-pred'\n",
    "    _sample_data = None\n",
    "    _train_results = None\n",
    "    _prediction = None\n",
    "\n",
    "    def __init__(self, sample_data):\n",
    "        assert sample_data is not None\n",
    "\n",
    "        self._sample_data = sample_data\n",
    " \n",
    "    def reset_run(self):\n",
    "        self._train_results = None\n",
    "        self._prediction = None\n",
    "\n",
    "    #--------------------------------------------------------------------------\n",
    "    # enumerates all possible combinations with k features\n",
    "    # perform and write perdictions\n",
    "    # limit : max combinations \n",
    "    # reg_type : linear, huber, ridge\n",
    "    #--------------------------------------------------------------------------\n",
    "    def run_combinations(self, reg_type, alpha, metric, k, limit):\n",
    "        self._sample_data.prepare_train_data()\n",
    "\n",
    "        cols = self._sample_data.get_cols_wo_target()\n",
    "        cols_cnt = len(cols)\n",
    "\n",
    "        if (cols_cnt >= k):\n",
    "            # avoid too many combinations to be evaluated\n",
    "            if (anp(cols_cnt, k) < 2000):\n",
    "                combinations = [list(x) for x in itertools.combinations(cols, k)]\n",
    "                combinations = [random.choice(combinations) for i in np.arange(limit)]\n",
    "\n",
    "                self._train_results = []\n",
    "                for combination in combinations:\n",
    "                    run_train(reg_type, alpha, metric, sample_data, combination, self._train_results)\n",
    "\n",
    "                self._sample_data.prepare_prediction_data()\n",
    "                self._prediction = build_prediction(self._find_optimal_train(), self._sample_data)\n",
    "  \n",
    "    #--------------------------------------------------------------------------\n",
    "    # add features to an (eventually already evaluated) optimal combination \n",
    "    # in order to build a more accurate model.\n",
    "    # a new optimal train will be evaluated\n",
    "    #--------------------------------------------------------------------------\n",
    "    def run_combination(self, reg_type, alpha, metric, cols):\n",
    "        self._sample_data.prepare_train_data()\n",
    "\n",
    "        # when no optimal train already exists, \n",
    "        try :\n",
    "            opt_train = self._find_optimal_train()\n",
    "            combination = opt_train.comb_cols.copy()\n",
    "        except:\n",
    "            combination = []\n",
    "        combination.extend(cols)\n",
    "\n",
    "        self._train_results = []\n",
    "        run_train(reg_type, alpha, metric, sample_data, combination, self._train_results)\n",
    "\n",
    "        sample_data.prepare_prediction_data()\n",
    "        self._prediction = build_prediction(self._find_optimal_train(), sample_data)\n",
    "   \n",
    "    #--------------------------------------------------------------------------\n",
    "    # run grid seach ridge regression with given features \n",
    "    #--------------------------------------------------------------------------\n",
    "    def run_ridge_grid(self, metric, cols):\n",
    "        self._sample_data.prepare_train_data()\n",
    "        \n",
    "        self._train_results = []\n",
    "        for alpha in np.logspace(-2, 10, num=100):\n",
    "            run_train('ridge', alpha, metric, sample_data, cols, self._train_results)\n",
    "        \n",
    "        # plot ridge grid results\n",
    "        if self._train_results is not None:\n",
    "            df = pd.DataFrame([x.as_dict() for x in self._train_results])\n",
    "            alphas = [x.alpha for x in df.lr]\n",
    "\n",
    "            plt.semilogx(alphas, df.train_score, label='mse train curve')\n",
    "            plt.semilogx(alphas, df.test_score, label='mse test curve')\n",
    "            plt.legend()\n",
    "            plt.show()\n",
    "\n",
    "            sample_data.prepare_prediction_data()\n",
    "            self._prediction = build_prediction(self._find_optimal_train(), sample_data)\n",
    "\n",
    "    #--------------------------------------------------------------------------\n",
    "    # find an optimal test score among all train's run\n",
    "    #--------------------------------------------------------------------------\n",
    "    def _find_optimal_train(self):\n",
    "        assert self._train_results is not None\n",
    "\n",
    "        df = pd.DataFrame([x.as_dict() for x in self._train_results])\n",
    "        i_opt = df['test_score'].idxmin()\n",
    "        return df.iloc[i_opt,:]\n",
    "\n",
    "    #--------------------------------------------------------------------------\n",
    "    # get Saleprice distibution of the optimal train \n",
    "    #--------------------------------------------------------------------------\n",
    "    def get_prediction_distribution(self):\n",
    "        assert self._prediction is not None\n",
    "\n",
    "        return self._prediction.SalePrice.describe()\n",
    "\n",
    "    #--------------------------------------------------------------------------\n",
    "    # write prediction data to a csv file\n",
    "    #--------------------------------------------------------------------------\n",
    "    def _write_prediction(self, suffix):\n",
    "        assert self._prediction is not None\n",
    "   \n",
    "        if suffix is not None:\n",
    "            file_name = self._prediction_base_file_name  + str('-') + (suffix)\n",
    "        file_name += str('.csv')\n",
    "\n",
    "        data_file = os.path.join(self._sample_data._working_dir, file_name)\n",
    "        self._prediction.to_csv(data_file, index=False)\n",
    "  \n",
    "    #--------------------------------------------------------------------------\n",
    "    # plot optimal train\n",
    "    #--------------------------------------------------------------------------\n",
    "    def _plot_optimal_train(self):\n",
    "        opt = self._find_optimal_train()\n",
    "\n",
    "        values = [opt.test_baseline,  \n",
    "                  opt.train_score,\n",
    "                  opt.test_score, ]\n",
    "  \n",
    "        fig, ax = plt.subplots()\n",
    "\n",
    "        bar_width = 0.6\n",
    "        index = np.arange(len(values))\n",
    "        rects1 = ax.bar(index, values, bar_width, color='g')\n",
    "        ax.set_xlabel('metrics')\n",
    "        ax.set_ylabel('mse score')\n",
    "        ax.set_title(opt.comb_cols)\n",
    "        ax.set_xticks(index)\n",
    "\n",
    "        ax.set_xticklabels(('baseline test score', 'train score', 'test score'))\n",
    "        plt.show()"
   ]
  },
  {
   "cell_type": "markdown",
   "metadata": {},
   "source": [
    "Models evaluations\n",
    "--"
   ]
  },
  {
   "cell_type": "code",
   "execution_count": 82,
   "metadata": {},
   "outputs": [
    {
     "name": "stderr",
     "output_type": "stream",
     "text": [
      "c:\\users\\waldo\\source\\repos\\study_1\\courses\\courses\\env\\lib\\site-packages\\ipykernel_launcher.py:12: FutureWarning: from_csv is deprecated. Please use read_csv(...) instead. Note that some of the default arguments are different, so please refer to the documentation for from_csv when changing your function calls\n",
      "  if sys.path[0] == '':\n"
     ]
    }
   ],
   "source": [
    "working_dir = os.getcwd()\n",
    "working_dir = os.path.join(working_dir, 'data', 'module_3')\n",
    "\n",
    "meta_data = meta_data(working_dir)\n",
    "sample_data = sample_data(working_dir, 'SalePrice', meta_data)\n",
    "sample_data.load_data()\n",
    "\n",
    "# dictionnary to store the optimal result of each model\n",
    "model_optimal_train_results = {}\n"
   ]
  },
  {
   "cell_type": "markdown",
   "metadata": {},
   "source": [
    "A. Simple model with only two features\n",
    "---"
   ]
  },
  {
   "cell_type": "code",
   "execution_count": 83,
   "metadata": {},
   "outputs": [],
   "source": [
    "model_selector = model_selector(sample_data)"
   ]
  },
  {
   "cell_type": "code",
   "execution_count": 84,
   "metadata": {},
   "outputs": [],
   "source": [
    "model_selector.run_combinations('linear', None, 'mean', 2, 2000)"
   ]
  },
  {
   "cell_type": "code",
   "execution_count": 85,
   "metadata": {},
   "outputs": [
    {
     "data": {
      "text/plain": [
       "PID_test                                                      None\n",
       "cols             Index(['Overall Qual', 'Gr Liv Area'], dtype='...\n",
       "comb_cols                              [Overall Qual, Gr Liv Area]\n",
       "lr               LinearRegression(copy_X=True, fit_intercept=Tr...\n",
       "metric                                                        mean\n",
       "test_baseline                                             0.398547\n",
       "test_score                                                0.196574\n",
       "train_score                                                0.20813\n",
       "y_te             [11.507912923146684, 11.964001084330445, 12.20...\n",
       "y_te_pred        [11.871774172869303, 11.798193400300399, 12.04...\n",
       "Name: 730, dtype: object"
      ]
     },
     "execution_count": 85,
     "metadata": {},
     "output_type": "execute_result"
    }
   ],
   "source": [
    "model_selector._find_optimal_train()"
   ]
  },
  {
   "cell_type": "markdown",
   "metadata": {},
   "source": [
    "couple of features which gives the best score"
   ]
  },
  {
   "cell_type": "code",
   "execution_count": 86,
   "metadata": {},
   "outputs": [
    {
     "data": {
      "text/plain": [
       "Index(['Overall Qual', 'Gr Liv Area'], dtype='object')"
      ]
     },
     "execution_count": 86,
     "metadata": {},
     "output_type": "execute_result"
    }
   ],
   "source": [
    "model_selector._find_optimal_train().cols"
   ]
  },
  {
   "cell_type": "code",
   "execution_count": 87,
   "metadata": {},
   "outputs": [
    {
     "data": {
      "text/plain": [
       "count       500.000000\n",
       "mean     181095.023514\n",
       "std       73813.141229\n",
       "min       60877.698849\n",
       "25%      127549.265064\n",
       "50%      160464.718681\n",
       "75%      215319.877195\n",
       "max      733605.836891\n",
       "Name: SalePrice, dtype: float64"
      ]
     },
     "execution_count": 87,
     "metadata": {},
     "output_type": "execute_result"
    }
   ],
   "source": [
    "model_selector.get_prediction_distribution()"
   ]
  },
  {
   "cell_type": "markdown",
   "metadata": {},
   "source": [
    "compare distribution above with train data set ones"
   ]
  },
  {
   "cell_type": "code",
   "execution_count": 88,
   "metadata": {},
   "outputs": [
    {
     "data": {
      "text/plain": [
       "count      2430.000000\n",
       "mean     180199.692593\n",
       "std       79607.467171\n",
       "min       12789.000000\n",
       "25%      129000.000000\n",
       "50%      160000.000000\n",
       "75%      213099.750000\n",
       "max      755000.000000\n",
       "Name: SalePrice, dtype: float64"
      ]
     },
     "execution_count": 88,
     "metadata": {},
     "output_type": "execute_result"
    }
   ],
   "source": [
    "sample_data.get_train_distribution()"
   ]
  },
  {
   "cell_type": "code",
   "execution_count": 89,
   "metadata": {},
   "outputs": [
    {
     "data": {
      "image/png": "[encoded data removed]",
      "text/plain": [
       "<Figure size 432x288 with 1 Axes>"
      ]
     },
     "metadata": {
      "needs_background": "light"
     },
     "output_type": "display_data"
    }
   ],
   "source": [
    "model_selector._plot_optimal_train()"
   ]
  },
  {
   "cell_type": "markdown",
   "metadata": {},
   "source": [
    "write prediction to file"
   ]
  },
  {
   "cell_type": "code",
   "execution_count": 90,
   "metadata": {},
   "outputs": [],
   "source": [
    " model_selector._write_prediction('simple')"
   ]
  },
  {
   "cell_type": "code",
   "execution_count": 91,
   "metadata": {},
   "outputs": [],
   "source": [
    "model_optimal_train_results['simple'] = model_selector._find_optimal_train()"
   ]
  },
  {
   "cell_type": "markdown",
   "metadata": {},
   "source": [
    "B. Intermediate model \n",
    "--\n",
    "\n",
    "This model is built with the 2 features determined above and 8 added features;  features are choosen according following criterias :\n",
    "- a. individual correlation with the target\n",
    "- b. distribution as near as normal distribution"
   ]
  },
  {
   "cell_type": "code",
   "execution_count": 92,
   "metadata": {},
   "outputs": [],
   "source": [
    "optimal_cols =  ['Overall Qual', 'Gr Liv Area']\n",
    "cols_to_add = ['Fireplaces', 'Lot Area', \n",
    "               'TotRms AbvGrd', 'Year Built',\n",
    "               '1st Flr SF', 'MS SubClass', \n",
    "               'Central Air', 'Garage Cars']\n"
   ]
  },
  {
   "cell_type": "code",
   "execution_count": 93,
   "metadata": {},
   "outputs": [
    {
     "data": {
      "text/plain": [
       "count       500.000000\n",
       "mean     181095.023514\n",
       "std       73813.141229\n",
       "min       60877.698849\n",
       "25%      127549.265064\n",
       "50%      160464.718681\n",
       "75%      215319.877195\n",
       "max      733605.836891\n",
       "Name: SalePrice, dtype: float64"
      ]
     },
     "execution_count": 93,
     "metadata": {},
     "output_type": "execute_result"
    }
   ],
   "source": [
    "model_selector.reset_run()\n",
    "model_selector.run_combination('linear', None, 'mean', optimal_cols)\n",
    "model_selector._find_optimal_train()\n",
    "model_selector.get_prediction_distribution()"
   ]
  },
  {
   "cell_type": "markdown",
   "metadata": {},
   "source": [
    "adds columns one after the other to be sure that the prediction \n",
    "distribution conserves a good fit in comparison to the train'one "
   ]
  },
  {
   "cell_type": "code",
   "execution_count": 94,
   "metadata": {},
   "outputs": [
    {
     "name": "stdout",
     "output_type": "stream",
     "text": [
      "count       500.000000\n",
      "mean     179880.140042\n",
      "std       71314.247249\n",
      "min       61896.123457\n",
      "25%      127202.799191\n",
      "50%      165542.730036\n",
      "75%      212263.710479\n",
      "max      674690.829608\n",
      "Name: SalePrice, dtype: float64\n"
     ]
    },
    {
     "data": {
      "image/png": "[encoded data removed]",
      "text/plain": [
       "<Figure size 432x288 with 1 Axes>"
      ]
     },
     "metadata": {
      "needs_background": "light"
     },
     "output_type": "display_data"
    },
    {
     "name": "stdout",
     "output_type": "stream",
     "text": [
      "count       500.000000\n",
      "mean     179082.267527\n",
      "std       71914.594175\n",
      "min       62125.904703\n",
      "25%      127227.693820\n",
      "50%      163911.668099\n",
      "75%      211910.178664\n",
      "max      716973.481572\n",
      "Name: SalePrice, dtype: float64\n"
     ]
    },
    {
     "data": {
      "image/png": "[encoded data removed]",
      "text/plain": [
       "<Figure size 432x288 with 1 Axes>"
      ]
     },
     "metadata": {
      "needs_background": "light"
     },
     "output_type": "display_data"
    },
    {
     "name": "stdout",
     "output_type": "stream",
     "text": [
      "count       500.000000\n",
      "mean     179030.075041\n",
      "std       72106.358392\n",
      "min       62216.657208\n",
      "25%      127181.265672\n",
      "50%      163603.764415\n",
      "75%      211556.480102\n",
      "max      729396.732193\n",
      "Name: SalePrice, dtype: float64\n"
     ]
    },
    {
     "data": {
      "image/png": "[encoded data removed]",
      "text/plain": [
       "<Figure size 432x288 with 1 Axes>"
      ]
     },
     "metadata": {
      "needs_background": "light"
     },
     "output_type": "display_data"
    },
    {
     "name": "stdout",
     "output_type": "stream",
     "text": [
      "count       500.000000\n",
      "mean     176661.516913\n",
      "std       65572.070035\n",
      "min       67543.034105\n",
      "25%      129786.092073\n",
      "50%      163423.840164\n",
      "75%      207165.813270\n",
      "max      680575.214043\n",
      "Name: SalePrice, dtype: float64\n"
     ]
    },
    {
     "data": {
      "image/png": "[encoded data removed]",
      "text/plain": [
       "<Figure size 432x288 with 1 Axes>"
      ]
     },
     "metadata": {
      "needs_background": "light"
     },
     "output_type": "display_data"
    },
    {
     "name": "stdout",
     "output_type": "stream",
     "text": [
      "count       500.000000\n",
      "mean     176068.078018\n",
      "std       65152.096090\n",
      "min       67530.739810\n",
      "25%      130527.290402\n",
      "50%      159514.515624\n",
      "75%      205454.172592\n",
      "max      706058.011935\n",
      "Name: SalePrice, dtype: float64\n"
     ]
    },
    {
     "data": {
      "image/png": "[encoded data removed]",
      "text/plain": [
       "<Figure size 432x288 with 1 Axes>"
      ]
     },
     "metadata": {
      "needs_background": "light"
     },
     "output_type": "display_data"
    },
    {
     "name": "stdout",
     "output_type": "stream",
     "text": [
      "count       500.000000\n",
      "mean     167738.131154\n",
      "std       62154.844906\n",
      "min       64949.065274\n",
      "25%      123573.121484\n",
      "50%      154340.641237\n",
      "75%      194208.787262\n",
      "max      665106.686539\n",
      "Name: SalePrice, dtype: float64\n"
     ]
    },
    {
     "data": {
      "image/png": "[encoded data removed]",
      "text/plain": [
       "<Figure size 432x288 with 1 Axes>"
      ]
     },
     "metadata": {
      "needs_background": "light"
     },
     "output_type": "display_data"
    },
    {
     "name": "stdout",
     "output_type": "stream",
     "text": [
      "count       500.000000\n",
      "mean     169601.785282\n",
      "std       61443.182469\n",
      "min       67116.383779\n",
      "25%      126379.493310\n",
      "50%      158101.478617\n",
      "75%      196589.508528\n",
      "max      653855.849931\n",
      "Name: SalePrice, dtype: float64\n"
     ]
    },
    {
     "data": {
      "image/png": "[encoded data removed]",
      "text/plain": [
       "<Figure size 432x288 with 1 Axes>"
      ]
     },
     "metadata": {
      "needs_background": "light"
     },
     "output_type": "display_data"
    },
    {
     "name": "stdout",
     "output_type": "stream",
     "text": [
      "count       500.000000\n",
      "mean     171995.800474\n",
      "std       65195.477904\n",
      "min       63172.795402\n",
      "25%      125122.979956\n",
      "50%      159533.406317\n",
      "75%      200534.776122\n",
      "max      639927.747199\n",
      "Name: SalePrice, dtype: float64\n"
     ]
    },
    {
     "data": {
      "image/png": "[encoded data removed]",
      "text/plain": [
       "<Figure size 432x288 with 1 Axes>"
      ]
     },
     "metadata": {
      "needs_background": "light"
     },
     "output_type": "display_data"
    }
   ],
   "source": [
    "for col in cols_to_add:\n",
    "    model_selector.run_combination('linear', None, 'mean', [col])\n",
    "    # print(model_selector._find_optimal_train())\n",
    "    print(model_selector.get_prediction_distribution())\n",
    "    model_selector._plot_optimal_train()\n",
    "    "
   ]
  },
  {
   "cell_type": "code",
   "execution_count": 95,
   "metadata": {},
   "outputs": [],
   "source": [
    "model_selector._write_prediction('intermediate')"
   ]
  },
  {
   "cell_type": "code",
   "execution_count": 96,
   "metadata": {},
   "outputs": [],
   "source": [
    "model_optimal_train_results['intermediate'] = model_selector._find_optimal_train()"
   ]
  },
  {
   "cell_type": "markdown",
   "metadata": {},
   "source": [
    "Adjust with ridge regression grid search with ridge regression model\n",
    "--\n",
    "\n",
    "The solution found above will be adjust with ridge-grid"
   ]
  },
  {
   "cell_type": "code",
   "execution_count": 98,
   "metadata": {},
   "outputs": [
    {
     "data": {
      "image/png": "[encoded data removed]",
      "text/plain": [
       "<Figure size 432x288 with 1 Axes>"
      ]
     },
     "metadata": {
      "needs_background": "light"
     },
     "output_type": "display_data"
    },
    {
     "data": {
      "image/png": "[encoded data removed]",
      "text/plain": [
       "<Figure size 432x288 with 1 Axes>"
      ]
     },
     "metadata": {
      "needs_background": "light"
     },
     "output_type": "display_data"
    }
   ],
   "source": [
    "model_selector.reset_run()\n",
    "cols = []\n",
    "cols = optimal_cols.copy()\n",
    "cols.extend(cols_to_add)\n",
    "\n",
    "model_selector.run_ridge_grid('mean', cols)\n",
    "model_selector._plot_optimal_train()\n",
    "model_selector._write_prediction('intermediate')"
   ]
  },
  {
   "cell_type": "code",
   "execution_count": 101,
   "metadata": {},
   "outputs": [],
   "source": [
    "model_selector._write_prediction('intermediate_adjusted')"
   ]
  },
  {
   "cell_type": "code",
   "execution_count": 102,
   "metadata": {},
   "outputs": [],
   "source": [
    "model_optimal_train_results['intermediate_adjusted'] = model_selector._find_optimal_train()"
   ]
  },
  {
   "cell_type": "markdown",
   "metadata": {},
   "source": [
    "C. Complex model build with all the (remaining) features \n",
    "--"
   ]
  },
  {
   "cell_type": "code",
   "execution_count": 105,
   "metadata": {},
   "outputs": [
    {
     "data": {
      "text/plain": [
       "Index(['Order', 'PID', 'MS SubClass', 'MS Zoning', 'Lot Area', 'Street',\n",
       "       'Lot Shape', 'Land Contour', 'Utilities', 'Lot Config', 'Land Slope',\n",
       "       'Neighborhood', 'Condition 1', 'Condition 2', 'Bldg Type',\n",
       "       'House Style', 'Overall Qual', 'Overall Cond', 'Year Built',\n",
       "       'Year Remod/Add', 'Roof Style', 'Roof Matl', 'Exterior 1st',\n",
       "       'Exterior 2nd', 'Exter Qual', 'Exter Cond', 'Foundation',\n",
       "       'BsmtFin SF 1', 'BsmtFin SF 2', 'Bsmt Unf SF', 'Total Bsmt SF',\n",
       "       'Heating', 'Heating QC', 'Central Air', 'Electrical', '1st Flr SF',\n",
       "       '2nd Flr SF', 'Low Qual Fin SF', 'Gr Liv Area', 'Full Bath',\n",
       "       'Half Bath', 'Bedroom AbvGr', 'Kitchen AbvGr', 'Kitchen Qual',\n",
       "       'TotRms AbvGrd', 'Functional', 'Fireplaces', 'Garage Cars',\n",
       "       'Garage Area', 'Paved Drive', 'Wood Deck SF', 'Open Porch SF',\n",
       "       'Enclosed Porch', '3Ssn Porch', 'Screen Porch', 'Pool Area', 'Misc Val',\n",
       "       'Mo Sold', 'Yr Sold', 'Sale Type', 'Sale Condition', 'SalePrice'],\n",
       "      dtype='object')"
      ]
     },
     "execution_count": 105,
     "metadata": {},
     "output_type": "execute_result"
    }
   ],
   "source": [
    "sample_data._df_train_data.columns"
   ]
  },
  {
   "cell_type": "code",
   "execution_count": 115,
   "metadata": {},
   "outputs": [],
   "source": [
    "alpha = 100\n",
    "model_selector.reset_run()\n",
    "model_selector.run_combinations('ridge', alpha, 'mean', 59, 2000)\n",
    "model_optimal_train_results['complex'] = model_selector._find_optimal_train()"
   ]
  },
  {
   "cell_type": "code",
   "execution_count": 116,
   "metadata": {},
   "outputs": [
    {
     "data": {
      "text/plain": [
       "count       500.000000\n",
       "mean      96657.366878\n",
       "std       35159.105532\n",
       "min       37182.066759\n",
       "25%       73179.205223\n",
       "50%       88198.416102\n",
       "75%      109415.012619\n",
       "max      365023.631532\n",
       "Name: SalePrice, dtype: float64"
      ]
     },
     "execution_count": 116,
     "metadata": {},
     "output_type": "execute_result"
    }
   ],
   "source": [
    "model_selector.get_prediction_distribution()"
   ]
  },
  {
   "cell_type": "markdown",
   "metadata": {},
   "source": [
    "We observe that the distribution is far from the train's one and that we can't retain this model"
   ]
  },
  {
   "cell_type": "code",
   "execution_count": 117,
   "metadata": {},
   "outputs": [],
   "source": [
    "model_selector._write_prediction('complex')"
   ]
  },
  {
   "cell_type": "code",
   "execution_count": 118,
   "metadata": {},
   "outputs": [],
   "source": [
    "model_optimal_train_results['complex'] = model_selector._find_optimal_train()"
   ]
  },
  {
   "cell_type": "markdown",
   "metadata": {},
   "source": [
    "D. Plot models comparisons\n",
    "--"
   ]
  },
  {
   "cell_type": "code",
   "execution_count": 119,
   "metadata": {},
   "outputs": [],
   "source": [
    "def plot_model_result(mode_results):\n",
    "    df = pd.DataFrame(model_optimal_train_results)\n",
    "    df = df.transpose()\n",
    "\n",
    "    # check that all models have been evaluated with the same metric\n",
    "    if (df.metric.drop_duplicates().count() == 1):\n",
    "        metric = df.metric.drop_duplicates()\n",
    "        df = df[['test_baseline', 'train_score', 'test_score']]\n",
    "    \n",
    "        ax = df.plot.bar(width=0.8)\n",
    "        ax.set_title(\"Comparison of the models (metric : \" + metric.values[0] + str(\")\"))\n",
    "        ax.set_xlabel(\"models\")\n",
    "        ax.set_ylabel(\"scores\")\n",
    "\n",
    "        ax.set_xticklabels(df.index, rotation=0)            \n",
    "        plt.show()"
   ]
  },
  {
   "cell_type": "code",
   "execution_count": 120,
   "metadata": {},
   "outputs": [
    {
     "data": {
      "image/png": "[encoded data removed]",
      "text/plain": [
       "<Figure size 432x288 with 1 Axes>"
      ]
     },
     "metadata": {
      "needs_background": "light"
     },
     "output_type": "display_data"
    }
   ],
   "source": [
    "plot_model_result(model_optimal_train_results)"
   ]
  },
  {
   "cell_type": "markdown",
   "metadata": {},
   "source": [
    "CONCLUSION\n",
    "--\n",
    "- intermediate model perform better than simple\n",
    "- intermediate adjusted with ridge regression better a little better than the intermediate \n",
    "- complex model has a good performance in term of scores but the evaluated prediciton distribution is very bad.\n",
    "\n",
    "REMARK \n",
    "--\n",
    "the comparison was performed with a 'mean' metric.\n",
    "To get a 'median' metric, just put the correct parameter in the machine and run it again."
   ]
  },
  {
   "cell_type": "code",
   "execution_count": null,
   "metadata": {},
   "outputs": [],
   "source": []
  }
 ],
 "metadata": {
  "kernelspec": {
   "display_name": "Python 3",
   "language": "python",
   "name": "python3"
  },
  "language_info": {
   "codemirror_mode": {
    "name": "ipython",
    "version": 3
   },
   "file_extension": ".py",
   "mimetype": "text/x-python",
   "name": "python",
   "nbconvert_exporter": "python",
   "pygments_lexer": "ipython3",
   "version": "3.6.5"
  }
 },
 "nbformat": 4,
 "nbformat_minor": 2
}
