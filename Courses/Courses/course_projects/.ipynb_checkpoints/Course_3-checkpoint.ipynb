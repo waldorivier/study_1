{
 "cells": [
  {
   "cell_type": "markdown",
   "metadata": {},
   "source": [
    "WALDO RIVIER 07.12.2018 Exercices du module 3\n",
    "---\n",
    "Applied Data Science: Machine Learning\n",
    "---"
   ]
  },
  {
   "cell_type": "code",
   "execution_count": 25,
   "metadata": {},
   "outputs": [],
   "source": [
    "import os\n",
    "\n",
    "import numpy as np\n",
    "import pandas as pd\n",
    "import matplotlib.pyplot as plt\n",
    "\n",
    "from sklearn.linear_model import SGDRegressor\n",
    "from sklearn.linear_model import HuberRegressor\n",
    "from sklearn.dummy import DummyRegressor\n",
    "from sklearn.linear_model import LinearRegression\n",
    "from sklearn.linear_model import Ridge\n",
    "from sklearn.preprocessing import PolynomialFeatures\n",
    "from sklearn.metrics import mean_squared_error as mse\n",
    "from sklearn.metrics import mean_absolute_error as mae\n",
    "import itertools\n",
    "\n",
    "from scipy.linalg import lstsq\n",
    "from scipy import stats\n",
    "\n",
    "from sklearn.metrics import r2_score\n",
    "from sklearn.preprocessing import scale\n",
    "from sklearn.model_selection import train_test_split"
   ]
  },
  {
   "cell_type": "markdown",
   "metadata": {},
   "source": [
    "working directory "
   ]
  },
  {
   "cell_type": "code",
   "execution_count": 34,
   "metadata": {},
   "outputs": [],
   "source": [
    "working_dir = os.getcwd()"
   ]
  },
  {
   "cell_type": "markdown",
   "metadata": {},
   "source": [
    "\n",
    "Warm-UP - TASK 1\n",
    "--"
   ]
  },
  {
   "cell_type": "code",
   "execution_count": 35,
   "metadata": {},
   "outputs": [],
   "source": [
    "data_file = os.path.join(working_dir, 'Data', 'module_3', 'task-1.csv')"
   ]
  },
  {
   "cell_type": "code",
   "execution_count": 36,
   "metadata": {},
   "outputs": [],
   "source": [
    "data_df = pd.read_csv(data_file)"
   ]
  },
  {
   "cell_type": "code",
   "execution_count": 37,
   "metadata": {},
   "outputs": [],
   "source": [
    "x = data_df.iloc[:,0]\n",
    "y = data_df.iloc[:,1]\n"
   ]
  },
  {
   "cell_type": "markdown",
   "metadata": {},
   "source": [
    "variable change x -> _x = log(x)"
   ]
  },
  {
   "cell_type": "code",
   "execution_count": 38,
   "metadata": {},
   "outputs": [],
   "source": [
    "_x = np.log(x)"
   ]
  },
  {
   "cell_type": "markdown",
   "metadata": {},
   "source": [
    "Fit a linear regression  "
   ]
  },
  {
   "cell_type": "code",
   "execution_count": 39,
   "metadata": {},
   "outputs": [],
   "source": [
    "coefs = np.polyfit(_x, y, deg = 1)\n",
    "y_pred = np.polyval(coefs, _x)"
   ]
  },
  {
   "cell_type": "markdown",
   "metadata": {},
   "source": [
    "print the model "
   ]
  },
  {
   "cell_type": "code",
   "execution_count": 40,
   "metadata": {},
   "outputs": [
    {
     "data": {
      "image/png": "[encoded data removed]",
      "text/plain": [
       "<Figure size 432x288 with 1 Axes>"
      ]
     },
     "metadata": {
      "needs_background": "light"
     },
     "output_type": "display_data"
    }
   ],
   "source": [
    "x_model = np.linspace(min(_x), max(_x), num=100)\n",
    "y_model = np.polyval(coefs, x_model)\n",
    "\n",
    "plt.scatter(x, y, label='observations', color='blue')\n",
    "plt.plot(np.exp(x_model), y_model, label = 'model', color='red')\n",
    "plt.xlabel('x')\n",
    "plt.ylabel('y')\n",
    "plt.legend()\n",
    "plt.show()"
   ]
  },
  {
   "cell_type": "markdown",
   "metadata": {},
   "source": [
    " metrics "
   ]
  },
  {
   "cell_type": "code",
   "execution_count": 41,
   "metadata": {},
   "outputs": [
    {
     "name": "stdout",
     "output_type": "stream",
     "text": [
      "mse : 0.636853035055134\n"
     ]
    }
   ],
   "source": [
    "print('mse :', mse(y, y_pred))"
   ]
  },
  {
   "cell_type": "markdown",
   "metadata": {},
   "source": [
    "compute baseline (default strategy = mean)"
   ]
  },
  {
   "cell_type": "code",
   "execution_count": 43,
   "metadata": {},
   "outputs": [
    {
     "name": "stdout",
     "output_type": "stream",
     "text": [
      "mse baseline: 10.822865744399998\n"
     ]
    }
   ],
   "source": [
    "_X = np.c_[_x]\n",
    "d_reg = DummyRegressor()\n",
    "d_reg.fit(_X, y)\n",
    "y_pred_bsl = d_reg.predict(_x)\n",
    "\n",
    "print ('mse baseline:', mse(y, y_pred_bsl))"
   ]
  },
  {
   "cell_type": "markdown",
   "metadata": {},
   "source": [
    "Compares metrics with R2 scores \n",
    "\n",
    "total error - model error / total error => 1 - model error / total error\n"
   ]
  },
  {
   "cell_type": "code",
   "execution_count": 44,
   "metadata": {},
   "outputs": [
    {
     "name": "stdout",
     "output_type": "stream",
     "text": [
      "R2 : 0.9411567093138288\n"
     ]
    }
   ],
   "source": [
    "R2 = 1 - mse(y, y_pred) / mse(y, y_pred_bsl)\n",
    "\n",
    "print ('R2 :', R2)"
   ]
  },
  {
   "cell_type": "markdown",
   "metadata": {},
   "source": [
    "POLYFIT vs GRADIENT DESCENT\n",
    "-- \n",
    "\n",
    "Polyfit : \n",
    "    - analytical solution (implement OLS resolution)\n",
    "    - finds a polynomial response (y) to problem with one feature (x)\n",
    "\n",
    " Gradient descent : \n",
    "    - general iterative algorithm \n",
    "    - apply to multi-features problems\n"
   ]
  },
  {
   "cell_type": "markdown",
   "metadata": {},
   "source": [
    "Warm-UP - TASK 2\n",
    "--"
   ]
  },
  {
   "cell_type": "markdown",
   "metadata": {},
   "source": [
    "Give an idea of what we plot"
   ]
  },
  {
   "cell_type": "code",
   "execution_count": 45,
   "metadata": {},
   "outputs": [],
   "source": [
    "def plot_df(data_df) :\n",
    "    plt.scatter(data_df.x1, data_df[target], label = 'x1', color = 'red')\n",
    "    plt.scatter(data_df.x2, data_df[target], label = 'x2',color = 'blue')\n",
    "    plt.scatter(data_df.x3, data_df[target], label = 'x3',color = 'green')\n",
    "    plt.legend()\n",
    "    plt.show()"
   ]
  },
  {
   "cell_type": "markdown",
   "metadata": {},
   "source": [
    "Evaluate model linear / huber loss\n",
    "Stores metrics in a list (results)"
   ]
  },
  {
   "cell_type": "code",
   "execution_count": 46,
   "metadata": {},
   "outputs": [],
   "source": [
    "def evaluate_model(reg_type, data_df, features, target, results):\n",
    "\n",
    "    res = {}\n",
    "\n",
    "    X = data_df[features].values\n",
    "    y = data_df[target].values\n",
    "    y = np.c_[y]\n",
    "\n",
    "    X_tr, X_te, y_tr, y_te = train_test_split(\n",
    "        X, y, train_size=0.2, test_size=0.8, random_state=0)\n",
    "\n",
    "    # linear regression without removing outliers\n",
    "\n",
    "    if reg_type == 'linear':\n",
    "        reg = LinearRegression()\n",
    "    else:\n",
    "        if reg_type == 'huber':\n",
    "            reg = HuberRegressor(1.35)\n",
    "            y_tr = y_tr.flatten()\n",
    "    \n",
    "    reg.fit(X_tr, y_tr)\n",
    "\n",
    "    y_tr_pred = reg.predict(X_tr)\n",
    "    y_te_pred = reg.predict(X_te)\n",
    "\n",
    "    # metrics\n",
    "    \n",
    "    res['reg_type'] = reg_type\n",
    "    res['mae_tr'] = mae(y_tr, y_tr_pred)\n",
    "    res['mae_te'] = mae(y_te, y_te_pred)\n",
    "\n",
    "    results.append(res)"
   ]
  },
  {
   "cell_type": "code",
   "execution_count": 52,
   "metadata": {},
   "outputs": [],
   "source": [
    "data_file = os.path.join(working_dir, 'Data', 'module_3', 'task-2.csv')\n",
    "data_df = pd.read_csv(data_file)\n",
    "\n",
    "target = 'y'\n",
    "features = data_df.columns.tolist()\n",
    "features.remove(target)"
   ]
  },
  {
   "cell_type": "markdown",
   "metadata": {},
   "source": [
    "plot y in response of x1, x2, x3 before removing any outliers"
   ]
  },
  {
   "cell_type": "code",
   "execution_count": 53,
   "metadata": {},
   "outputs": [
    {
     "data": {
      "image/png": "[encoded data removed]",
      "text/plain": [
       "<Figure size 432x288 with 1 Axes>"
      ]
     },
     "metadata": {
      "needs_background": "light"
     },
     "output_type": "display_data"
    }
   ],
   "source": [
    "results = []\n",
    "evaluate_model('linear', data_df, features, target, results)\n",
    "plot_df(data_df)"
   ]
  },
  {
   "cell_type": "markdown",
   "metadata": {},
   "source": [
    "remove outliers with the criteria z > 2 "
   ]
  },
  {
   "cell_type": "code",
   "execution_count": 63,
   "metadata": {},
   "outputs": [
    {
     "name": "stdout",
     "output_type": "stream",
     "text": [
      "x1:number of outliers removed = 35\n",
      "x2:number of outliers removed = 14\n",
      "x3:number of outliers removed = 26\n",
      "y:number of outliers removed = 40\n"
     ]
    }
   ],
   "source": [
    "data_df_wo = data_df.copy()\n",
    "for f in data_df.columns:\n",
    "    z = (data_df_wo[f] - data_df_wo[f].mean()) / data_df_wo[f].std()\n",
    "    outliers = np.abs(z) >= 2\n",
    "\n",
    "    print (str(f) + ':number of outliers removed = ' + str(outliers.sum()))\n",
    "    data_df_wo = data_df_wo[~outliers]"
   ]
  },
  {
   "cell_type": "markdown",
   "metadata": {},
   "source": [
    "plot y in response of x1, x2, x3 after removing any outliers"
   ]
  },
  {
   "cell_type": "code",
   "execution_count": 64,
   "metadata": {},
   "outputs": [
    {
     "data": {
      "image/png": "[encoded data removed]",
      "text/plain": [
       "<Figure size 432x288 with 1 Axes>"
      ]
     },
     "metadata": {
      "needs_background": "light"
     },
     "output_type": "display_data"
    }
   ],
   "source": [
    "plot_df(data_df_wo)"
   ]
  },
  {
   "cell_type": "code",
   "execution_count": 66,
   "metadata": {},
   "outputs": [
    {
     "data": {
      "text/html": [
       "<div>\n",
       "<style scoped>\n",
       "    .dataframe tbody tr th:only-of-type {\n",
       "        vertical-align: middle;\n",
       "    }\n",
       "\n",
       "    .dataframe tbody tr th {\n",
       "        vertical-align: top;\n",
       "    }\n",
       "\n",
       "    .dataframe thead th {\n",
       "        text-align: right;\n",
       "    }\n",
       "</style>\n",
       "<table border=\"1\" class=\"dataframe\">\n",
       "  <thead>\n",
       "    <tr style=\"text-align: right;\">\n",
       "      <th></th>\n",
       "      <th>mae_te</th>\n",
       "      <th>mae_tr</th>\n",
       "      <th>reg_type</th>\n",
       "    </tr>\n",
       "  </thead>\n",
       "  <tbody>\n",
       "    <tr>\n",
       "      <th>0</th>\n",
       "      <td>115.608035</td>\n",
       "      <td>118.503332</td>\n",
       "      <td>linear</td>\n",
       "    </tr>\n",
       "    <tr>\n",
       "      <th>1</th>\n",
       "      <td>51.993842</td>\n",
       "      <td>51.533524</td>\n",
       "      <td>linear</td>\n",
       "    </tr>\n",
       "    <tr>\n",
       "      <th>2</th>\n",
       "      <td>106.325596</td>\n",
       "      <td>111.041400</td>\n",
       "      <td>huber</td>\n",
       "    </tr>\n",
       "  </tbody>\n",
       "</table>\n",
       "</div>"
      ],
      "text/plain": [
       "       mae_te      mae_tr reg_type\n",
       "0  115.608035  118.503332   linear\n",
       "1   51.993842   51.533524   linear\n",
       "2  106.325596  111.041400    huber"
      ]
     },
     "execution_count": 66,
     "metadata": {},
     "output_type": "execute_result"
    }
   ],
   "source": [
    "evaluate_model('linear', data_df_wo, features, target, results)\n",
    "evaluate_model('huber', data_df, features, target, results)\n",
    "\n",
    "df_results = pd.DataFrame(results)\n",
    "df_results"
   ]
  },
  {
   "cell_type": "markdown",
   "metadata": {},
   "source": [
    "Warm-UP - TASK 3\n",
    "--"
   ]
  },
  {
   "cell_type": "code",
   "execution_count": null,
   "metadata": {},
   "outputs": [],
   "source": []
  }
 ],
 "metadata": {
  "kernelspec": {
   "display_name": "Python 3",
   "language": "python",
   "name": "python3"
  },
  "language_info": {
   "codemirror_mode": {
    "name": "ipython",
    "version": 3
   },
   "file_extension": ".py",
   "mimetype": "text/x-python",
   "name": "python",
   "nbconvert_exporter": "python",
   "pygments_lexer": "ipython3",
   "version": "3.6.5"
  }
 },
 "nbformat": 4,
 "nbformat_minor": 2
}
