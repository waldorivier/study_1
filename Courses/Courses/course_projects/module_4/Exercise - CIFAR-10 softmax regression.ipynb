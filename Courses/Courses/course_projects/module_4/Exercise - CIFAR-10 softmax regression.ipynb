{
 "cells": [
  {
   "cell_type": "markdown",
   "metadata": {},
   "source": [
    "# CIFAR-10 softmax regression"
   ]
  },
  {
   "cell_type": "markdown",
   "metadata": {},
   "source": [
    "## Exercise - Load and preprocess data\n",
    "\n",
    "> **Exercise**: Load the data from the `cifar10-6k.npz` file. Split it into train/validation/test sets with respectively 5,000/500/500 images. Standardize them. Define a `get_batches(X, y, batch_size)` function to generate X/y batches of size `batch_size` using a Python generator."
   ]
  },
  {
   "cell_type": "code",
   "execution_count": null,
   "metadata": {
    "collapsed": true
   },
   "outputs": [],
   "source": [
    "???"
   ]
  },
  {
   "cell_type": "markdown",
   "metadata": {},
   "source": [
    "## Exercise - Build and train model\n",
    "\n",
    "> **Exercise:** Create a softmax regression network for the CIFAR-10 images. Define the graph (placeholders, variables, operations, loss function, optimizer) and train it using your batch generator.\n",
    "\n",
    "**Hint**: Test different learning rates."
   ]
  },
  {
   "cell_type": "code",
   "execution_count": null,
   "metadata": {
    "collapsed": true
   },
   "outputs": [],
   "source": [
    "???"
   ]
  },
  {
   "cell_type": "markdown",
   "metadata": {},
   "source": [
    "## Exercise - Plot templates\n",
    "\n",
    "> **Exercise**: Plot the templates of each output neuron. If you use the `imshow(array)` function to plot the array of weights, remember that it expects values between zero and one for 3-dimensional arrays. You can use the `MinMaxScaler` object from Scikit-learn to rescale the weights."
   ]
  },
  {
   "cell_type": "code",
   "execution_count": null,
   "metadata": {
    "collapsed": true
   },
   "outputs": [],
   "source": [
    "???"
   ]
  },
  {
   "cell_type": "markdown",
   "metadata": {},
   "source": [
    "## Exercise - Evaluate model\n",
    "\n",
    "> **Exercise**: Evaluate the accuracy of your network on the test set."
   ]
  },
  {
   "cell_type": "code",
   "execution_count": null,
   "metadata": {
    "collapsed": true
   },
   "outputs": [],
   "source": [
    "???"
   ]
  }
 ],
 "metadata": {
  "kernelspec": {
   "display_name": "Python 3",
   "language": "python",
   "name": "python3"
  },
  "language_info": {
   "codemirror_mode": {
    "name": "ipython",
    "version": 3
   },
   "file_extension": ".py",
   "mimetype": "text/x-python",
   "name": "python",
   "nbconvert_exporter": "python",
   "pygments_lexer": "ipython3",
   "version": "3.6.2"
  }
 },
 "nbformat": 4,
 "nbformat_minor": 2
}
