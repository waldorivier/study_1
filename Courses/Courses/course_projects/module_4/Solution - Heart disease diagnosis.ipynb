{
 "cells": [
  {
   "cell_type": "markdown",
   "metadata": {},
   "source": [
    "# SOLUTION NOTEBOOK\n",
    "\n",
    "---"
   ]
  },
  {
   "cell_type": "markdown",
   "metadata": {},
   "source": [
    "#  Heart disease diagnosis"
   ]
  },
  {
   "cell_type": "markdown",
   "metadata": {},
   "source": [
    "## Exercise - Load data and apply one-hot encoding\n",
    "\n",
    "> **Exercise**: Load the data and encode categorical features using **one-hot encoding**. Create X/y arrays and split them into 70-30 train/test sets using `train_test_split(random_state=0)`. Make sure that the train/test sets have the same proportion of data points in each class by setting `stratify=y`."
   ]
  },
  {
   "cell_type": "code",
   "execution_count": 1,
   "metadata": {},
   "outputs": [
    {
     "data": {
      "text/html": [
       "<div>\n",
       "<style>\n",
       "    .dataframe thead tr:only-child th {\n",
       "        text-align: right;\n",
       "    }\n",
       "\n",
       "    .dataframe thead th {\n",
       "        text-align: left;\n",
       "    }\n",
       "\n",
       "    .dataframe tbody tr th {\n",
       "        vertical-align: top;\n",
       "    }\n",
       "</style>\n",
       "<table border=\"1\" class=\"dataframe\">\n",
       "  <thead>\n",
       "    <tr style=\"text-align: right;\">\n",
       "      <th></th>\n",
       "      <th>age</th>\n",
       "      <th>sex</th>\n",
       "      <th>cp</th>\n",
       "      <th>trestbps</th>\n",
       "      <th>chol</th>\n",
       "      <th>fbs</th>\n",
       "      <th>restecg</th>\n",
       "      <th>thalach</th>\n",
       "      <th>exang</th>\n",
       "      <th>oldpeak</th>\n",
       "      <th>slope</th>\n",
       "      <th>ca</th>\n",
       "      <th>thal</th>\n",
       "      <th>disease</th>\n",
       "    </tr>\n",
       "  </thead>\n",
       "  <tbody>\n",
       "    <tr>\n",
       "      <th>0</th>\n",
       "      <td>63</td>\n",
       "      <td>male</td>\n",
       "      <td>typical angina</td>\n",
       "      <td>145</td>\n",
       "      <td>233</td>\n",
       "      <td>yes</td>\n",
       "      <td>ventricular hypertrophy</td>\n",
       "      <td>150</td>\n",
       "      <td>no</td>\n",
       "      <td>2.3</td>\n",
       "      <td>downsloping</td>\n",
       "      <td>0</td>\n",
       "      <td>fixed defect</td>\n",
       "      <td>absent</td>\n",
       "    </tr>\n",
       "    <tr>\n",
       "      <th>1</th>\n",
       "      <td>58</td>\n",
       "      <td>female</td>\n",
       "      <td>asymptomatic</td>\n",
       "      <td>100</td>\n",
       "      <td>248</td>\n",
       "      <td>no</td>\n",
       "      <td>ventricular hypertrophy</td>\n",
       "      <td>122</td>\n",
       "      <td>no</td>\n",
       "      <td>1.0</td>\n",
       "      <td>flat</td>\n",
       "      <td>0</td>\n",
       "      <td>normal</td>\n",
       "      <td>absent</td>\n",
       "    </tr>\n",
       "    <tr>\n",
       "      <th>2</th>\n",
       "      <td>48</td>\n",
       "      <td>male</td>\n",
       "      <td>non-anginal pain</td>\n",
       "      <td>124</td>\n",
       "      <td>255</td>\n",
       "      <td>yes</td>\n",
       "      <td>normal</td>\n",
       "      <td>175</td>\n",
       "      <td>no</td>\n",
       "      <td>0.0</td>\n",
       "      <td>upsloping</td>\n",
       "      <td>2</td>\n",
       "      <td>normal</td>\n",
       "      <td>absent</td>\n",
       "    </tr>\n",
       "    <tr>\n",
       "      <th>3</th>\n",
       "      <td>57</td>\n",
       "      <td>male</td>\n",
       "      <td>asymptomatic</td>\n",
       "      <td>132</td>\n",
       "      <td>207</td>\n",
       "      <td>no</td>\n",
       "      <td>normal</td>\n",
       "      <td>168</td>\n",
       "      <td>yes</td>\n",
       "      <td>0.0</td>\n",
       "      <td>upsloping</td>\n",
       "      <td>0</td>\n",
       "      <td>reversable defect</td>\n",
       "      <td>absent</td>\n",
       "    </tr>\n",
       "    <tr>\n",
       "      <th>4</th>\n",
       "      <td>52</td>\n",
       "      <td>male</td>\n",
       "      <td>non-anginal pain</td>\n",
       "      <td>138</td>\n",
       "      <td>223</td>\n",
       "      <td>no</td>\n",
       "      <td>normal</td>\n",
       "      <td>169</td>\n",
       "      <td>no</td>\n",
       "      <td>0.0</td>\n",
       "      <td>upsloping</td>\n",
       "      <td>0</td>\n",
       "      <td>normal</td>\n",
       "      <td>absent</td>\n",
       "    </tr>\n",
       "  </tbody>\n",
       "</table>\n",
       "</div>"
      ],
      "text/plain": [
       "   age     sex                cp  trestbps  chol  fbs  \\\n",
       "0   63    male    typical angina       145   233  yes   \n",
       "1   58  female      asymptomatic       100   248   no   \n",
       "2   48    male  non-anginal pain       124   255  yes   \n",
       "3   57    male      asymptomatic       132   207   no   \n",
       "4   52    male  non-anginal pain       138   223   no   \n",
       "\n",
       "                   restecg  thalach exang  oldpeak        slope  ca  \\\n",
       "0  ventricular hypertrophy      150    no      2.3  downsloping   0   \n",
       "1  ventricular hypertrophy      122    no      1.0         flat   0   \n",
       "2                   normal      175    no      0.0    upsloping   2   \n",
       "3                   normal      168   yes      0.0    upsloping   0   \n",
       "4                   normal      169    no      0.0    upsloping   0   \n",
       "\n",
       "                thal disease  \n",
       "0       fixed defect  absent  \n",
       "1             normal  absent  \n",
       "2             normal  absent  \n",
       "3  reversable defect  absent  \n",
       "4             normal  absent  "
      ]
     },
     "execution_count": 1,
     "metadata": {},
     "output_type": "execute_result"
    }
   ],
   "source": [
    "import pandas as pd\n",
    "import os\n",
    "\n",
    "# Load data\n",
    "data_df = pd.read_csv(os.path.join('data', 'heart-disease.csv'))\n",
    "\n",
    "# First five rows\n",
    "data_df.head()"
   ]
  },
  {
   "cell_type": "code",
   "execution_count": 2,
   "metadata": {},
   "outputs": [
    {
     "name": "stdout",
     "output_type": "stream",
     "text": [
      "X: (303, 25) float64\n",
      "y: (303,) object\n"
     ]
    }
   ],
   "source": [
    "# One-hot encoding\n",
    "encoded_df = pd.get_dummies(data_df, columns=['sex', 'cp', 'fbs', 'restecg', 'exang', 'slope', 'thal'])\n",
    "\n",
    "# Create X/y arrays\n",
    "X = encoded_df.drop('disease', axis=1).values\n",
    "y = encoded_df.disease.values\n",
    "\n",
    "print('X:', X.shape, X.dtype)\n",
    "print('y:', y.shape, y.dtype)"
   ]
  },
  {
   "cell_type": "code",
   "execution_count": 3,
   "metadata": {},
   "outputs": [
    {
     "name": "stdout",
     "output_type": "stream",
     "text": [
      "Train: (212, 25) (212,)\n",
      "Test: (91, 25) (91,)\n"
     ]
    }
   ],
   "source": [
    "from sklearn.model_selection import train_test_split\n",
    "\n",
    "# Split into train/test sets\n",
    "X_tr, X_te, y_tr, y_te = train_test_split(\n",
    "    X, y, test_size=0.3, stratify=y, random_state=0)\n",
    "\n",
    "print('Train:', X_tr.shape, y_tr.shape)\n",
    "print('Test:', X_te.shape, y_te.shape)"
   ]
  },
  {
   "cell_type": "markdown",
   "metadata": {},
   "source": [
    "## Exercise - Evaluate baseline\n",
    "\n",
    "> **Exercise**: Evaluate the accuracy of the \"most-frequent\" baseline."
   ]
  },
  {
   "cell_type": "code",
   "execution_count": 4,
   "metadata": {},
   "outputs": [
    {
     "name": "stdout",
     "output_type": "stream",
     "text": [
      "Baseline accuracy (\"most-frequent\"): 0.538\n"
     ]
    }
   ],
   "source": [
    "from sklearn.dummy import DummyClassifier\n",
    "\n",
    "# Evaluat baseline\n",
    "dummy = DummyClassifier(strategy='most_frequent')\n",
    "dummy.fit(X_tr, y_tr)\n",
    "accuracy = dummy.score(X_te, y_te)\n",
    "print('Baseline accuracy (\"most-frequent\"): {:.3f}'.format(accuracy))"
   ]
  },
  {
   "cell_type": "markdown",
   "metadata": {},
   "source": [
    "## Exercise - Grid search with cross-validation for *k*-NN\n",
    "\n",
    "> **Exercise**: Fit and evaluate the accuracy of a *k*-NN classifier. Tune the following hyperparameters using grid search with **stratified 10-fold** cross-validation.\n",
    "> * Number of neighbors *k*\n",
    "> * Distance metric - $L_{1}$ or $L_{2}$\n",
    "> * Weighting strategy - uniform or by distance"
   ]
  },
  {
   "cell_type": "code",
   "execution_count": 5,
   "metadata": {},
   "outputs": [
    {
     "data": {
      "text/html": [
       "<div>\n",
       "<style>\n",
       "    .dataframe thead tr:only-child th {\n",
       "        text-align: right;\n",
       "    }\n",
       "\n",
       "    .dataframe thead th {\n",
       "        text-align: left;\n",
       "    }\n",
       "\n",
       "    .dataframe tbody tr th {\n",
       "        vertical-align: top;\n",
       "    }\n",
       "</style>\n",
       "<table border=\"1\" class=\"dataframe\">\n",
       "  <thead>\n",
       "    <tr style=\"text-align: right;\">\n",
       "      <th></th>\n",
       "      <th>k</th>\n",
       "      <th>p</th>\n",
       "      <th>weights</th>\n",
       "      <th>mean_te</th>\n",
       "    </tr>\n",
       "  </thead>\n",
       "  <tbody>\n",
       "    <tr>\n",
       "      <th>16</th>\n",
       "      <td>20</td>\n",
       "      <td>1</td>\n",
       "      <td>uniform</td>\n",
       "      <td>0.683962</td>\n",
       "    </tr>\n",
       "    <tr>\n",
       "      <th>14</th>\n",
       "      <td>15</td>\n",
       "      <td>2</td>\n",
       "      <td>uniform</td>\n",
       "      <td>0.669811</td>\n",
       "    </tr>\n",
       "    <tr>\n",
       "      <th>18</th>\n",
       "      <td>20</td>\n",
       "      <td>2</td>\n",
       "      <td>uniform</td>\n",
       "      <td>0.665094</td>\n",
       "    </tr>\n",
       "    <tr>\n",
       "      <th>17</th>\n",
       "      <td>20</td>\n",
       "      <td>1</td>\n",
       "      <td>distance</td>\n",
       "      <td>0.665094</td>\n",
       "    </tr>\n",
       "    <tr>\n",
       "      <th>15</th>\n",
       "      <td>15</td>\n",
       "      <td>2</td>\n",
       "      <td>distance</td>\n",
       "      <td>0.665094</td>\n",
       "    </tr>\n",
       "    <tr>\n",
       "      <th>11</th>\n",
       "      <td>10</td>\n",
       "      <td>2</td>\n",
       "      <td>distance</td>\n",
       "      <td>0.665094</td>\n",
       "    </tr>\n",
       "    <tr>\n",
       "      <th>4</th>\n",
       "      <td>5</td>\n",
       "      <td>1</td>\n",
       "      <td>uniform</td>\n",
       "      <td>0.660377</td>\n",
       "    </tr>\n",
       "    <tr>\n",
       "      <th>5</th>\n",
       "      <td>5</td>\n",
       "      <td>1</td>\n",
       "      <td>distance</td>\n",
       "      <td>0.650943</td>\n",
       "    </tr>\n",
       "    <tr>\n",
       "      <th>12</th>\n",
       "      <td>15</td>\n",
       "      <td>1</td>\n",
       "      <td>uniform</td>\n",
       "      <td>0.650943</td>\n",
       "    </tr>\n",
       "    <tr>\n",
       "      <th>6</th>\n",
       "      <td>5</td>\n",
       "      <td>2</td>\n",
       "      <td>uniform</td>\n",
       "      <td>0.646226</td>\n",
       "    </tr>\n",
       "  </tbody>\n",
       "</table>\n",
       "</div>"
      ],
      "text/plain": [
       "     k  p   weights   mean_te\n",
       "16  20  1   uniform  0.683962\n",
       "14  15  2   uniform  0.669811\n",
       "18  20  2   uniform  0.665094\n",
       "17  20  1  distance  0.665094\n",
       "15  15  2  distance  0.665094\n",
       "11  10  2  distance  0.665094\n",
       "4    5  1   uniform  0.660377\n",
       "5    5  1  distance  0.650943\n",
       "12  15  1   uniform  0.650943\n",
       "6    5  2   uniform  0.646226"
      ]
     },
     "execution_count": 5,
     "metadata": {},
     "output_type": "execute_result"
    }
   ],
   "source": [
    "import numpy as np\n",
    "\n",
    "from sklearn.model_selection import GridSearchCV\n",
    "from sklearn.model_selection import StratifiedKFold\n",
    "from sklearn.pipeline import Pipeline\n",
    "from sklearn.preprocessing import StandardScaler\n",
    "from sklearn.neighbors import KNeighborsClassifier\n",
    "\n",
    "# Create pipeline\n",
    "pipe = Pipeline([\n",
    "    ('scaler', StandardScaler()),\n",
    "    ('knn', KNeighborsClassifier())\n",
    "])\n",
    "\n",
    "# Grid search with cross-validation\n",
    "grid = {\n",
    "    'knn__n_neighbors': [1, 5, 10, 15, 20],\n",
    "    'knn__weights': ['uniform', 'distance'],\n",
    "    'knn__p': [1, 2]\n",
    "}\n",
    "grid_cv = GridSearchCV(pipe, grid, cv=10)\n",
    "\n",
    "# Fit it to train data\n",
    "grid_cv.fit(X_tr, y_tr)\n",
    "\n",
    "# Collect results in a DataFrame\n",
    "df = pd.DataFrame.from_items([\n",
    "    ('k', grid_cv.cv_results_['param_knn__n_neighbors']),\n",
    "    ('p', grid_cv.cv_results_['param_knn__p']),\n",
    "    ('weights', grid_cv.cv_results_['param_knn__weights']),\n",
    "    ('mean_te', grid_cv.cv_results_['mean_test_score'])\n",
    "])\n",
    "\n",
    "# Ten best combinations according to the mean test score\n",
    "df.sort_values(by='mean_te', ascending=False).head(10)"
   ]
  },
  {
   "cell_type": "code",
   "execution_count": 6,
   "metadata": {},
   "outputs": [
    {
     "name": "stdout",
     "output_type": "stream",
     "text": [
      "k-NN accuracy: 0.670\n"
     ]
    }
   ],
   "source": [
    "# Evaluate accuracy on test set\n",
    "accuracy = grid_cv.score(X_te, y_te)\n",
    "print('k-NN accuracy: {:.3f}'.format(accuracy))"
   ]
  },
  {
   "cell_type": "markdown",
   "metadata": {},
   "source": [
    "## Exercise - Logistic regression\n",
    "\n",
    "> **Exercise**: Fit a logistic regression classifier (try both OvR and softmax versions). Tune the `C` parameter using a **stratified 10-fold** cross-validation. Print the optimal `C` value for each class."
   ]
  },
  {
   "cell_type": "code",
   "execution_count": 7,
   "metadata": {},
   "outputs": [
    {
     "name": "stdout",
     "output_type": "stream",
     "text": [
      "Category \"absent\": 3.6e-01\n",
      "Category \"likely\": 1.0e-04\n",
      "Category \"very likely\": 1.0e-04\n",
      "Logistic regression accuracy: 0.670\n"
     ]
    }
   ],
   "source": [
    "from sklearn.linear_model import LogisticRegressionCV\n",
    "\n",
    "# List of C values\n",
    "Cs = np.logspace(-4, 4, num=10)\n",
    "\n",
    "# Logistic regression (OvR) with C select using cross-validated grid search\n",
    "logreg_cv = LogisticRegressionCV(Cs, cv=10, multi_class='ovr')\n",
    "logreg_cv.fit(X_tr, y_tr)\n",
    "\n",
    "# Print C values\n",
    "for category, C in zip(logreg_cv.classes_, logreg_cv.C_):\n",
    "    print('Category \"{}\": {:.1e}'.format(category, C))\n",
    "    \n",
    "# Evaluate accuracy on test set\n",
    "accuracy = logreg_cv.score(X_te, y_te)\n",
    "print('Logistic regression accuracy: {:.3f}'.format(accuracy))"
   ]
  },
  {
   "cell_type": "code",
   "execution_count": 8,
   "metadata": {},
   "outputs": [
    {
     "name": "stdout",
     "output_type": "stream",
     "text": [
      "Logistic regression accuracy: 0.681\n"
     ]
    }
   ],
   "source": [
    "# Softmax regression\n",
    "    logreg_cv = LogisticRegressionCV(Cs, cv=10, multi_class='multinomial')\n",
    "    logreg_cv.fit(X_tr, y_tr)\n",
    "\n",
    "# Evaluate accuracy on test set\n",
    "accuracy = logreg_cv.score(X_te, y_te)\n",
    "print('Logistic regression accuracy: {:.3f}'.format(accuracy))"
   ]
  }
 ],
 "metadata": {
  "kernelspec": {
   "display_name": "Python 3",
   "language": "python",
   "name": "python3"
  },
  "language_info": {
   "codemirror_mode": {
    "name": "ipython",
    "version": 3
   },
   "file_extension": ".py",
   "mimetype": "text/x-python",
   "name": "python",
   "nbconvert_exporter": "python",
   "pygments_lexer": "ipython3",
   "version": "3.6.5"
  }
 },
 "nbformat": 4,
 "nbformat_minor": 2
}
