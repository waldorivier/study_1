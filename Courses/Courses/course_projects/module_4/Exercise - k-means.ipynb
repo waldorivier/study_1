{
 "cells": [
  {
   "cell_type": "markdown",
   "metadata": {},
   "source": [
    "# The *k*-means algorithm"
   ]
  },
  {
   "cell_type": "markdown",
   "metadata": {},
   "source": [
    "## Exercise - Chigago gambling crimes\n",
    "\n",
    "The city of Chicago disposes of 8 police patrols to fight gambling crimes. They want to assign each patrol to an area of Chicago where there is historically a lot of gambling crimes.\n",
    "\n",
    "> **Exercise**: Load the gambling crimes data. Create an `X` array with the `Longitude` and the `Latitude` variables (drop the other ones). Create a map of the gambling crimes using these two variables. Find eight centers of gamblings crimes using *k*-means. Plot each cluster with a different color and mark their centers (the centroids)."
   ]
  },
  {
   "cell_type": "code",
   "execution_count": null,
   "metadata": {
    "collapsed": true
   },
   "outputs": [],
   "source": [
    "???"
   ]
  },
  {
   "cell_type": "markdown",
   "metadata": {},
   "source": [
    "---\n",
    "\n",
    "## Challenge - Image compression\n",
    "\n",
    "> **Exercise**: Load the `pepper.jpg` image. Apply *k*-means to the image pixels to extract a palette of 3, 5 or 10 colors. Then re-draw the image using this new palette."
   ]
  },
  {
   "cell_type": "code",
   "execution_count": null,
   "metadata": {
    "collapsed": true
   },
   "outputs": [],
   "source": [
    "???"
   ]
  }
 ],
 "metadata": {
  "kernelspec": {
   "display_name": "Python 3",
   "language": "python",
   "name": "python3"
  },
  "language_info": {
   "codemirror_mode": {
    "name": "ipython",
    "version": 3
   },
   "file_extension": ".py",
   "mimetype": "text/x-python",
   "name": "python",
   "nbconvert_exporter": "python",
   "pygments_lexer": "ipython3",
   "version": "3.6.5"
  }
 },
 "nbformat": 4,
 "nbformat_minor": 2
}
