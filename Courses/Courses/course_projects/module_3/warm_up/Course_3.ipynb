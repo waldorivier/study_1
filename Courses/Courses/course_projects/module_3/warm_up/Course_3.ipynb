{
 "cells": [
  {
   "cell_type": "markdown",
   "metadata": {},
   "source": [
    "WALDO RIVIER 07.12.2018 Exercices module 3 WARM-UP\n",
    "---\n",
    "Applied Data Science : Machine Learning\n",
    "---"
   ]
  },
  {
   "cell_type": "code",
   "execution_count": 1,
   "metadata": {},
   "outputs": [],
   "source": [
    "import os\n",
    "\n",
    "import numpy as np\n",
    "import pandas as pd\n",
    "import matplotlib.pyplot as plt\n",
    "\n",
    "from sklearn.linear_model import SGDRegressor\n",
    "from sklearn.linear_model import HuberRegressor\n",
    "from sklearn.dummy import DummyRegressor\n",
    "from sklearn.linear_model import LinearRegression\n",
    "from sklearn.linear_model import Ridge\n",
    "from sklearn.preprocessing import PolynomialFeatures\n",
    "from sklearn.metrics import mean_squared_error as mse\n",
    "from sklearn.metrics import mean_absolute_error as mae\n",
    "import itertools\n",
    "\n",
    "from scipy.linalg import lstsq\n",
    "from scipy import stats\n",
    "\n",
    "from sklearn.metrics import r2_score\n",
    "from sklearn.preprocessing import scale\n",
    "from sklearn.model_selection import train_test_split"
   ]
  },
  {
   "cell_type": "markdown",
   "metadata": {},
   "source": [
    "working directory "
   ]
  },
  {
   "cell_type": "code",
   "execution_count": 2,
   "metadata": {},
   "outputs": [],
   "source": [
    "working_dir = os.getcwd()"
   ]
  },
  {
   "cell_type": "markdown",
   "metadata": {},
   "source": [
    "\n",
    "Warm-UP - TASK 1\n",
    "--"
   ]
  },
  {
   "cell_type": "code",
   "execution_count": 100,
   "metadata": {},
   "outputs": [],
   "source": [
    "data_file = os.path.join(working_dir, 'Data', 'module_3', 'task-1.csv')"
   ]
  },
  {
   "cell_type": "code",
   "execution_count": 101,
   "metadata": {},
   "outputs": [],
   "source": [
    "data_df = pd.read_csv(data_file)"
   ]
  },
  {
   "cell_type": "code",
   "execution_count": 102,
   "metadata": {},
   "outputs": [],
   "source": [
    "x = data_df.iloc[:,0]\n",
    "y = data_df.iloc[:,1]"
   ]
  },
  {
   "cell_type": "markdown",
   "metadata": {},
   "source": [
    "variable change x -> _x = log(x)"
   ]
  },
  {
   "cell_type": "code",
   "execution_count": 103,
   "metadata": {},
   "outputs": [],
   "source": [
    "_x = np.log(x)"
   ]
  },
  {
   "cell_type": "markdown",
   "metadata": {},
   "source": [
    "Fit a linear regression  "
   ]
  },
  {
   "cell_type": "code",
   "execution_count": 104,
   "metadata": {},
   "outputs": [],
   "source": [
    "coefs = np.polyfit(_x, y, deg = 1)\n",
    "y_pred = np.polyval(coefs, _x)"
   ]
  },
  {
   "cell_type": "markdown",
   "metadata": {},
   "source": [
    "Print the model "
   ]
  },
  {
   "cell_type": "code",
   "execution_count": 105,
   "metadata": {},
   "outputs": [
    {
     "data": {
      "image/png": "[encoded data removed]",
      "text/plain": [
       "<matplotlib.figure.Figure at 0x1f4b94cff28>"
      ]
     },
     "metadata": {},
     "output_type": "display_data"
    }
   ],
   "source": [
    "x_model = np.linspace(min(_x), max(_x), num=100)\n",
    "y_model = np.polyval(coefs, x_model)\n",
    "\n",
    "plt.scatter(x, y, label='observations', color='blue')\n",
    "plt.plot(np.exp(x_model), y_model, label = 'model', color='red')\n",
    "plt.xlabel('x')\n",
    "plt.ylabel('y')\n",
    "plt.legend()\n",
    "plt.show()"
   ]
  },
  {
   "cell_type": "markdown",
   "metadata": {},
   "source": [
    "Metrics "
   ]
  },
  {
   "cell_type": "code",
   "execution_count": 106,
   "metadata": {},
   "outputs": [
    {
     "name": "stdout",
     "output_type": "stream",
     "text": [
      "mse : 0.6368530350551357\n"
     ]
    }
   ],
   "source": [
    "print('mse :', mse(y, y_pred))"
   ]
  },
  {
   "cell_type": "markdown",
   "metadata": {},
   "source": [
    "Compute baseline (default strategy = mean)"
   ]
  },
  {
   "cell_type": "code",
   "execution_count": 112,
   "metadata": {},
   "outputs": [
    {
     "name": "stdout",
     "output_type": "stream",
     "text": [
      "mse baseline: 10.822865744399998\n"
     ]
    }
   ],
   "source": [
    "_X = np.c_[_x]\n",
    "d_reg = DummyRegressor()\n",
    "d_reg.fit(_X, y)\n",
    "y_pred_bsl = d_reg.predict(_X)\n",
    "\n",
    "print ('mse baseline:', mse(y, y_pred_bsl))"
   ]
  },
  {
   "cell_type": "markdown",
   "metadata": {},
   "source": [
    "Compares metrics with R2 scores \n",
    "\n",
    "(total error - model error) / total error => 1 - model error / total error\n"
   ]
  },
  {
   "cell_type": "code",
   "execution_count": 44,
   "metadata": {},
   "outputs": [
    {
     "name": "stdout",
     "output_type": "stream",
     "text": [
      "R2 : 0.9411567093138288\n"
     ]
    }
   ],
   "source": [
    "R2 = 1 - mse(y, y_pred) / mse(y, y_pred_bsl)\n",
    "\n",
    "print ('R2 :', R2)"
   ]
  },
  {
   "cell_type": "markdown",
   "metadata": {},
   "source": [
    "POLYFIT vs GRADIENT DESCENT\n",
    "-- \n",
    "\n",
    "Polyfit : \n",
    "    - analytical solution (implement OLS resolution)\n",
    "    - finds the best polynomial response (y) to problem with one feature (x)\n",
    "\n",
    " Gradient descent : \n",
    "    - general iterative algorithm \n",
    "    - apply to multi-features problems\n"
   ]
  },
  {
   "cell_type": "markdown",
   "metadata": {},
   "source": [
    "Warm-UP - TASK 2\n",
    "--"
   ]
  },
  {
   "cell_type": "markdown",
   "metadata": {},
   "source": [
    "Give an idea of what we plot"
   ]
  },
  {
   "cell_type": "code",
   "execution_count": 81,
   "metadata": {},
   "outputs": [],
   "source": [
    "def plot_df(data_df, target) :\n",
    "    \n",
    "    plt.scatter(data_df.x1, data_df[target], label = 'x1', color = 'red')\n",
    "    plt.scatter(data_df.x2, data_df[target], label = 'x2',color = 'blue')\n",
    "    plt.scatter(data_df.x3, data_df[target], label = 'x3',color = 'green')\n",
    "    plt.legend()\n",
    "    plt.show()"
   ]
  },
  {
   "cell_type": "markdown",
   "metadata": {},
   "source": [
    "Evaluate model linear / huber loss\n",
    "Stores metrics in a list (results)"
   ]
  },
  {
   "cell_type": "code",
   "execution_count": 89,
   "metadata": {},
   "outputs": [],
   "source": [
    "def evaluate_model(reg_type, data_df, features, target, results):\n",
    "\n",
    "    res = {}\n",
    "\n",
    "    X = data_df[features].values\n",
    "    y = data_df[target].values\n",
    "    y = np.c_[y]\n",
    "\n",
    "    X_tr, X_te, y_tr, y_te = train_test_split(\n",
    "        X, y, train_size=0.8, test_size=0.2, random_state=2)\n",
    "\n",
    "    # linear regression without removing outliers\n",
    "\n",
    "    if reg_type == 'linear':\n",
    "        reg = LinearRegression()\n",
    "    else:\n",
    "        if reg_type == 'huber':\n",
    "            reg = HuberRegressor(1.35)\n",
    "            y_tr = y_tr.flatten()\n",
    "    \n",
    "    reg.fit(X_tr, y_tr)\n",
    "\n",
    "    y_tr_pred = reg.predict(X_tr)\n",
    "    y_te_pred = reg.predict(X_te)\n",
    "\n",
    "    # metrics\n",
    "    \n",
    "    res['reg_type'] = reg_type\n",
    "    res['mae_tr'] = mae(y_tr, y_tr_pred)\n",
    "    res['mae_te'] = mae(y_te, y_te_pred)\n",
    "\n",
    "    results.append(res)"
   ]
  },
  {
   "cell_type": "code",
   "execution_count": 90,
   "metadata": {},
   "outputs": [],
   "source": [
    "data_file = os.path.join(working_dir, 'Data', 'module_3', 'task-2.csv')\n",
    "data_df = pd.read_csv(data_file)\n",
    "\n",
    "target = 'y'\n",
    "features = data_df.columns.tolist()\n",
    "features.remove(target)"
   ]
  },
  {
   "cell_type": "markdown",
   "metadata": {},
   "source": [
    "Plot y in response of x1, x2, x3 before removing any outliers"
   ]
  },
  {
   "cell_type": "code",
   "execution_count": 91,
   "metadata": {},
   "outputs": [
    {
     "data": {
      "image/png": "[encoded data removed]",
      "text/plain": [
       "<matplotlib.figure.Figure at 0x1f4bd680438>"
      ]
     },
     "metadata": {},
     "output_type": "display_data"
    }
   ],
   "source": [
    "results = []\n",
    "evaluate_model('linear', data_df, features, target, results)\n",
    "evaluate_model('huber', data_df, features, target, results)\n",
    "plot_df(data_df, target)"
   ]
  },
  {
   "cell_type": "code",
   "execution_count": 92,
   "metadata": {},
   "outputs": [
    {
     "data": {
      "text/html": [
       "<div>\n",
       "<style scoped>\n",
       "    .dataframe tbody tr th:only-of-type {\n",
       "        vertical-align: middle;\n",
       "    }\n",
       "\n",
       "    .dataframe tbody tr th {\n",
       "        vertical-align: top;\n",
       "    }\n",
       "\n",
       "    .dataframe thead th {\n",
       "        text-align: right;\n",
       "    }\n",
       "</style>\n",
       "<table border=\"1\" class=\"dataframe\">\n",
       "  <thead>\n",
       "    <tr style=\"text-align: right;\">\n",
       "      <th></th>\n",
       "      <th>mae_te</th>\n",
       "      <th>mae_tr</th>\n",
       "      <th>reg_type</th>\n",
       "    </tr>\n",
       "  </thead>\n",
       "  <tbody>\n",
       "    <tr>\n",
       "      <th>0</th>\n",
       "      <td>119.156974</td>\n",
       "      <td>116.141412</td>\n",
       "      <td>linear</td>\n",
       "    </tr>\n",
       "    <tr>\n",
       "      <th>1</th>\n",
       "      <td>99.602949</td>\n",
       "      <td>106.155610</td>\n",
       "      <td>huber</td>\n",
       "    </tr>\n",
       "  </tbody>\n",
       "</table>\n",
       "</div>"
      ],
      "text/plain": [
       "       mae_te      mae_tr reg_type\n",
       "0  119.156974  116.141412   linear\n",
       "1   99.602949  106.155610    huber"
      ]
     },
     "execution_count": 92,
     "metadata": {},
     "output_type": "execute_result"
    }
   ],
   "source": [
    "df_results = pd.DataFrame(results)\n",
    "df_results"
   ]
  },
  {
   "cell_type": "markdown",
   "metadata": {},
   "source": [
    "Remove outliers (features and target)  with the criteria z > 2 "
   ]
  },
  {
   "cell_type": "code",
   "execution_count": 93,
   "metadata": {},
   "outputs": [
    {
     "name": "stdout",
     "output_type": "stream",
     "text": [
      "x1: number of outliers removed = 35\n",
      "x2: number of outliers removed = 14\n",
      "x3: number of outliers removed = 26\n",
      "y: number of outliers removed = 40\n"
     ]
    }
   ],
   "source": [
    "data_df_wo = data_df.copy()\n",
    "for f in data_df.columns:\n",
    "    z = (data_df_wo[f] - data_df_wo[f].mean()) / data_df_wo[f].std()\n",
    "    outliers = np.abs(z) >= 2\n",
    "\n",
    "    print (str(f) + ': number of outliers removed = ' + str(outliers.sum()))\n",
    "    data_df_wo = data_df_wo[~outliers]"
   ]
  },
  {
   "cell_type": "markdown",
   "metadata": {},
   "source": [
    "Plot y in response of x1, x2, x3 after removing any outliers"
   ]
  },
  {
   "cell_type": "code",
   "execution_count": 96,
   "metadata": {},
   "outputs": [
    {
     "data": {
      "image/png": "[encoded data removed]",
      "text/plain": [
       "<matplotlib.figure.Figure at 0x1f4bd6eb208>"
      ]
     },
     "metadata": {},
     "output_type": "display_data"
    }
   ],
   "source": [
    "plot_df(data_df_wo, target)"
   ]
  },
  {
   "cell_type": "code",
   "execution_count": 97,
   "metadata": {},
   "outputs": [
    {
     "data": {
      "text/html": [
       "<div>\n",
       "<style scoped>\n",
       "    .dataframe tbody tr th:only-of-type {\n",
       "        vertical-align: middle;\n",
       "    }\n",
       "\n",
       "    .dataframe tbody tr th {\n",
       "        vertical-align: top;\n",
       "    }\n",
       "\n",
       "    .dataframe thead th {\n",
       "        text-align: right;\n",
       "    }\n",
       "</style>\n",
       "<table border=\"1\" class=\"dataframe\">\n",
       "  <thead>\n",
       "    <tr style=\"text-align: right;\">\n",
       "      <th></th>\n",
       "      <th>mae_te</th>\n",
       "      <th>mae_tr</th>\n",
       "      <th>reg_type</th>\n",
       "    </tr>\n",
       "  </thead>\n",
       "  <tbody>\n",
       "    <tr>\n",
       "      <th>0</th>\n",
       "      <td>55.496075</td>\n",
       "      <td>50.134746</td>\n",
       "      <td>linear</td>\n",
       "    </tr>\n",
       "    <tr>\n",
       "      <th>1</th>\n",
       "      <td>99.602949</td>\n",
       "      <td>106.155610</td>\n",
       "      <td>huber</td>\n",
       "    </tr>\n",
       "  </tbody>\n",
       "</table>\n",
       "</div>"
      ],
      "text/plain": [
       "      mae_te      mae_tr reg_type\n",
       "0  55.496075   50.134746   linear\n",
       "1  99.602949  106.155610    huber"
      ]
     },
     "execution_count": 97,
     "metadata": {},
     "output_type": "execute_result"
    }
   ],
   "source": [
    "results = []\n",
    "evaluate_model('linear', data_df_wo, features, target, results)\n",
    "evaluate_model('huber', data_df, features, target, results)\n",
    "\n",
    "df_results = pd.DataFrame(results)\n",
    "df_results"
   ]
  },
  {
   "cell_type": "markdown",
   "metadata": {},
   "source": [
    "REMARK : after removing outliers, mae score is reduced by a factor 2 for linear regression while huber regression stay unchanged "
   ]
  },
  {
   "cell_type": "markdown",
   "metadata": {},
   "source": [
    "Warm-UP - TASK 3\n",
    "--"
   ]
  },
  {
   "cell_type": "code",
   "execution_count": 113,
   "metadata": {},
   "outputs": [],
   "source": [
    "def evaluate_model_poly(degree, x, y, is_ridge, alpha_ridge, results, plot = False):\n",
    "    reg = None\n",
    "\n",
    "    poly = PolynomialFeatures(degree, include_bias=False)\n",
    "\n",
    "    poly.fit(x)\n",
    "    X = poly.fit_transform(x)\n",
    "\n",
    "    X_tr, X_te, y_tr, y_te = train_test_split(\n",
    "        X, y, train_size=0.8, test_size=0.2, random_state=1)\n",
    "\n",
    "    if is_ridge :\n",
    "        if alpha_ridge is None:\n",
    "            reg = Ridge()\n",
    "        else:\n",
    "            reg = Ridge(alpha_ridge)\n",
    "    else :\n",
    "        reg = LinearRegression()\n",
    "\n",
    "    reg.fit(X_tr, y_tr)\n",
    "        \n",
    "    y_tr_pred = reg.predict(X_tr)\n",
    "    y_te_pred = reg.predict(X_te)\n",
    "\n",
    "    # draw the model\n",
    "    x_model = np.linspace(min(x), max(x), num=100)\n",
    "    x_model = x_model[:, np.newaxis]\n",
    "\n",
    "    X_model = poly.transform(x_model)\n",
    "    y_model = reg.predict(X_model)\n",
    "    \n",
    "    row = {}\n",
    "    row['is_ridge'] = is_ridge\n",
    "    row['L2']       = np.sum(reg.coef_ ** 2)\n",
    "    row['degree']   = degree\n",
    "    row['alpha']    = alpha_ridge\n",
    "    row['mse_tr']   = mse(y_tr_pred, y_tr)\n",
    "    row['mse_te']   = mse(y_te_pred, y_te)\n",
    "    row['score_tr'] = reg.score(X_tr, y_tr)\n",
    "    row['score_te'] = reg.score(X_te, y_te)\n",
    "\n",
    "    if plot:\n",
    "        plt.plot(x_model, y_model, label='model : ' + str(\"ridge regression = \") + str(is_ridge) + \"; degree = \" + str(degree) )\n",
    "        plt.scatter(X_tr[:, 0], y_tr, label='train set')\n",
    "        plt.scatter(X_te[:, 0], y_te, label='test set')\n",
    "              \n",
    "    results.append(row)"
   ]
  },
  {
   "cell_type": "code",
   "execution_count": 114,
   "metadata": {},
   "outputs": [],
   "source": [
    "data_file = os.path.join(working_dir, 'Data', 'module_3', 'task-3.csv')\n",
    "data_df = pd.read_csv(data_file)\n",
    "\n",
    "x_ = data_df['x'].values\n",
    "y = data_df['y'].values"
   ]
  },
  {
   "cell_type": "markdown",
   "metadata": {},
   "source": [
    "Regression using polynomial features "
   ]
  },
  {
   "cell_type": "code",
   "execution_count": 115,
   "metadata": {},
   "outputs": [
    {
     "data": {
      "image/png": "[encoded data removed]",
      "text/plain": [
       "<matplotlib.figure.Figure at 0x1f4bb8cde48>"
      ]
     },
     "metadata": {},
     "output_type": "display_data"
    },
    {
     "data": {
      "text/html": [
       "<div>\n",
       "<style scoped>\n",
       "    .dataframe tbody tr th:only-of-type {\n",
       "        vertical-align: middle;\n",
       "    }\n",
       "\n",
       "    .dataframe tbody tr th {\n",
       "        vertical-align: top;\n",
       "    }\n",
       "\n",
       "    .dataframe thead th {\n",
       "        text-align: right;\n",
       "    }\n",
       "</style>\n",
       "<table border=\"1\" class=\"dataframe\">\n",
       "  <thead>\n",
       "    <tr style=\"text-align: right;\">\n",
       "      <th></th>\n",
       "      <th>L2</th>\n",
       "      <th>alpha</th>\n",
       "      <th>degree</th>\n",
       "      <th>is_ridge</th>\n",
       "      <th>mse_te</th>\n",
       "      <th>mse_tr</th>\n",
       "      <th>score_te</th>\n",
       "      <th>score_tr</th>\n",
       "    </tr>\n",
       "  </thead>\n",
       "  <tbody>\n",
       "    <tr>\n",
       "      <th>0</th>\n",
       "      <td>2.392500e+15</td>\n",
       "      <td>None</td>\n",
       "      <td>10</td>\n",
       "      <td>False</td>\n",
       "      <td>0.093033</td>\n",
       "      <td>0.024904</td>\n",
       "      <td>0.832578</td>\n",
       "      <td>0.92728</td>\n",
       "    </tr>\n",
       "  </tbody>\n",
       "</table>\n",
       "</div>"
      ],
      "text/plain": [
       "             L2 alpha  degree  is_ridge    mse_te    mse_tr  score_te  \\\n",
       "0  2.392500e+15  None      10     False  0.093033  0.024904  0.832578   \n",
       "\n",
       "   score_tr  \n",
       "0   0.92728  "
      ]
     },
     "execution_count": 115,
     "metadata": {},
     "output_type": "execute_result"
    }
   ],
   "source": [
    "x = x_[:, np.newaxis]\n",
    "\n",
    "results = []\n",
    "evaluate_model_poly(10, x, y, False, None, results, True)\n",
    "plt.legend()\n",
    "plt.show()\n",
    "\n",
    "df_results = pd.DataFrame(results)\n",
    "df_results\n"
   ]
  },
  {
   "cell_type": "markdown",
   "metadata": {},
   "source": [
    "Regression using Ridge(alpha) / grid search"
   ]
  },
  {
   "cell_type": "code",
   "execution_count": 116,
   "metadata": {},
   "outputs": [],
   "source": [
    "results = []\n",
    "for degree in np.arange(10, 11):\n",
    "    for alpha in np.logspace(-1, 10, num=100):\n",
    "        evaluate_model_poly(degree, x, y, True, alpha, results, False)\n",
    "      \n",
    "df_results = pd.DataFrame(results)"
   ]
  },
  {
   "cell_type": "markdown",
   "metadata": {},
   "source": [
    "Plot mse train / test"
   ]
  },
  {
   "cell_type": "code",
   "execution_count": 117,
   "metadata": {},
   "outputs": [
    {
     "data": {
      "image/png": "[encoded data removed]",
      "text/plain": [
       "<matplotlib.figure.Figure at 0x1f4bb8cd128>"
      ]
     },
     "metadata": {},
     "output_type": "display_data"
    }
   ],
   "source": [
    "plt.semilogx(df_results.alpha, df_results.mse_tr, label='mse train curve')\n",
    "plt.semilogx(df_results.alpha, df_results.mse_te, label='mse test curve')\n",
    "plt.legend()\n",
    "plt.show()"
   ]
  },
  {
   "cell_type": "markdown",
   "metadata": {},
   "source": [
    "Determine the optimum"
   ]
  },
  {
   "cell_type": "code",
   "execution_count": 118,
   "metadata": {},
   "outputs": [
    {
     "data": {
      "text/plain": [
       "L2          0.00306066\n",
       "alpha          4.64159\n",
       "degree              10\n",
       "is_ridge          True\n",
       "mse_te       0.0425099\n",
       "mse_tr       0.0362375\n",
       "score_te      0.923499\n",
       "score_tr      0.894186\n",
       "Name: 15, dtype: object"
      ]
     },
     "execution_count": 118,
     "metadata": {},
     "output_type": "execute_result"
    }
   ],
   "source": [
    "df_results\n",
    "df_results.iloc[df_results.mse_te.idxmin(),]"
   ]
  },
  {
   "cell_type": "markdown",
   "metadata": {},
   "source": [
    "Draw the optimum ridge solution and compares with \n",
    "a polynomial regression of degree 4 "
   ]
  },
  {
   "cell_type": "code",
   "execution_count": 119,
   "metadata": {},
   "outputs": [
    {
     "data": {
      "image/png": "[encoded data removed]",
      "text/plain": [
       "<matplotlib.figure.Figure at 0x1f4bb8cd320>"
      ]
     },
     "metadata": {},
     "output_type": "display_data"
    },
    {
     "data": {
      "text/html": [
       "<div>\n",
       "<style scoped>\n",
       "    .dataframe tbody tr th:only-of-type {\n",
       "        vertical-align: middle;\n",
       "    }\n",
       "\n",
       "    .dataframe tbody tr th {\n",
       "        vertical-align: top;\n",
       "    }\n",
       "\n",
       "    .dataframe thead th {\n",
       "        text-align: right;\n",
       "    }\n",
       "</style>\n",
       "<table border=\"1\" class=\"dataframe\">\n",
       "  <thead>\n",
       "    <tr style=\"text-align: right;\">\n",
       "      <th></th>\n",
       "      <th>L2</th>\n",
       "      <th>alpha</th>\n",
       "      <th>degree</th>\n",
       "      <th>is_ridge</th>\n",
       "      <th>mse_te</th>\n",
       "      <th>mse_tr</th>\n",
       "      <th>score_te</th>\n",
       "      <th>score_tr</th>\n",
       "    </tr>\n",
       "  </thead>\n",
       "  <tbody>\n",
       "    <tr>\n",
       "      <th>0</th>\n",
       "      <td>3.060661e-03</td>\n",
       "      <td>4.64159</td>\n",
       "      <td>10</td>\n",
       "      <td>True</td>\n",
       "      <td>0.042510</td>\n",
       "      <td>0.036238</td>\n",
       "      <td>0.923499</td>\n",
       "      <td>0.894186</td>\n",
       "    </tr>\n",
       "    <tr>\n",
       "      <th>1</th>\n",
       "      <td>3.092000e+06</td>\n",
       "      <td>NaN</td>\n",
       "      <td>4</td>\n",
       "      <td>False</td>\n",
       "      <td>0.058123</td>\n",
       "      <td>0.031922</td>\n",
       "      <td>0.895401</td>\n",
       "      <td>0.906789</td>\n",
       "    </tr>\n",
       "  </tbody>\n",
       "</table>\n",
       "</div>"
      ],
      "text/plain": [
       "             L2    alpha  degree  is_ridge    mse_te    mse_tr  score_te  \\\n",
       "0  3.060661e-03  4.64159      10      True  0.042510  0.036238  0.923499   \n",
       "1  3.092000e+06      NaN       4     False  0.058123  0.031922  0.895401   \n",
       "\n",
       "   score_tr  \n",
       "0  0.894186  \n",
       "1  0.906789  "
      ]
     },
     "execution_count": 119,
     "metadata": {},
     "output_type": "execute_result"
    }
   ],
   "source": [
    "results = []\n",
    "evaluate_model_poly(10, x, y, True, 4.64159, results, True)\n",
    "evaluate_model_poly(4, x, y, False, None, results, True)\n",
    "\n",
    "plt.legend()\n",
    "plt.show()\n",
    "\n",
    "df_results = pd.DataFrame(results)\n",
    "df_results"
   ]
  },
  {
   "cell_type": "markdown",
   "metadata": {},
   "source": [
    "REMARK : Both models perform equivalently, but Ridge regression with a lower L2"
   ]
  },
  {
   "cell_type": "code",
   "execution_count": null,
   "metadata": {},
   "outputs": [],
   "source": []
  }
 ],
 "metadata": {
  "kernelspec": {
   "display_name": "Python 3",
   "language": "python",
   "name": "python3"
  },
  "language_info": {
   "codemirror_mode": {
    "name": "ipython",
    "version": 3
   },
   "file_extension": ".py",
   "mimetype": "text/x-python",
   "name": "python",
   "nbconvert_exporter": "python",
   "pygments_lexer": "ipython3",
   "version": "3.6.5"
  }
 },
 "nbformat": 4,
 "nbformat_minor": 2
}
