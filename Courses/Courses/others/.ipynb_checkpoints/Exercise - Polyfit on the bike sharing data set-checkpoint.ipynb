{
 "cells": [
  {
   "cell_type": "markdown",
   "metadata": {},
   "source": [
    "# Polyfit on the bike sharing data set"
   ]
  },
  {
   "cell_type": "markdown",
   "metadata": {},
   "source": [
    "## Exercise: Load the data set\n",
    "\n",
    "> **Exercise**: Create the x/y **Numpy arrays**. The feature vector x should contain the temperature values. The target vector y should contain the number of users.\n",
    "\n",
    "**Self-assessment**: You can run the test cell below."
   ]
  },
  {
   "cell_type": "code",
   "execution_count": null,
   "metadata": {},
   "outputs": [],
   "source": [
    "import pandas as pd\n",
    "import os\n",
    "\n",
    "# Load the data into a Pandas DataFrame\n",
    "data_df = pd.read_csv(os.path.join('data', 'bike-sharing-simple.csv'))\n",
    "\n",
    "# Extract the x/y Numpy arrays\n",
    "x = ???\n",
    "y = ???\n",
    "\n",
    "print('x:', type(x), x.shape, x.dtype, x[:5])\n",
    "print('y:', type(y), y.shape, y.dtype, y[:5])"
   ]
  },
  {
   "cell_type": "markdown",
   "metadata": {},
   "source": [
    "Test cell"
   ]
  },
  {
   "cell_type": "code",
   "execution_count": null,
   "metadata": {},
   "outputs": [],
   "source": [
    "import numpy as np\n",
    "\n",
    "# Some test cases\n",
    "assert type(x) == np.ndarray, 'x should be a Numpy array'\n",
    "assert type(y) == np.ndarray, 'y should be a Numpy array'\n",
    "assert x.shape == (302,), 'the shape of x should be (302,)'\n",
    "assert y.shape == (302,), 'the shape of y should be (302,)'\n",
    "\n",
    "print('tests passed!')"
   ]
  },
  {
   "cell_type": "markdown",
   "metadata": {},
   "source": [
    "## Exercise: Fit a polynomial\n",
    "\n",
    "> **Exercise**: (A) Fit a polynomial using the Numpy `polyfit()` function. You should test different degrees. (B) Print the optimal coefficients. (C) Plot the polynomial."
   ]
  },
  {
   "cell_type": "code",
   "execution_count": null,
   "metadata": {},
   "outputs": [],
   "source": [
    "# (A) Fit a polynomial\n",
    "???\n",
    "\n",
    "# (B) Print coefficients\n",
    "???\n",
    "\n",
    "# (C) Plot the polynomial\n",
    "???"
   ]
  },
  {
   "cell_type": "markdown",
   "metadata": {},
   "source": [
    "## Exercise: Evaluate your model\n",
    "\n",
    "The RSS measure depends on the total number of data points since we sum the squared error over all data points. In practice, we prefer to have a measure that is independent of the number of observations. To achieve this, we can replace the sum by a mean, and we obtain the Mean Squared Error (MSE) measure.\n",
    "\n",
    "$$\n",
    "\\text{MSE}=\\frac{1}{n}\\sum_{i=1}^{n}\\left(y_{i}-\\hat{y}_{i}\\right)^{2}\n",
    "$$\n",
    "\n",
    "> **Exercise**: Implement the MSE measure.\n",
    "\n",
    "**Self-assessment**: You can run the test cell below."
   ]
  },
  {
   "cell_type": "code",
   "execution_count": null,
   "metadata": {
    "collapsed": true
   },
   "outputs": [],
   "source": [
    "def MSE(y, y_pred):\n",
    "    return ???"
   ]
  },
  {
   "cell_type": "code",
   "execution_count": null,
   "metadata": {},
   "outputs": [],
   "source": [
    "from numpy.testing import assert_almost_equal\n",
    "\n",
    "y_test = np.array([1, 2, 3])\n",
    "y_test_pred1 = np.array([1, 2, 3])\n",
    "y_test_pred2 = np.array([1, 5, 3])\n",
    "y_test_pred3 = np.array([1, 5, 6])\n",
    "\n",
    "assert_almost_equal(MSE(y_test, y_test_pred1), 0, decimal=5)\n",
    "assert_almost_equal(MSE(y_test, y_test_pred2), 3 , decimal=5)\n",
    "assert_almost_equal(MSE(y_test, y_test_pred3), 6, decimal=5)\n",
    "\n",
    "print('tests passed!')"
   ]
  },
  {
   "cell_type": "markdown",
   "metadata": {},
   "source": [
    "MSE can still be a large number since we measure squared errors. One solution is to take the square root of MSE to obtain the Root Mean Squared Error (RMSE).\n",
    "\n",
    "$$\n",
    "\\text{RMSE}=\\sqrt{\\text{MSE}}\n",
    "$$\n",
    "\n",
    "> **Exercise**: Compute the estimated values `y_pred` for the data points `x`. Print the RMSE score.\n",
    "\n",
    "**Self-assessment**: The RMSE value should be between 207 and 235 depending on the degree of your polynomial."
   ]
  },
  {
   "cell_type": "code",
   "execution_count": null,
   "metadata": {},
   "outputs": [],
   "source": [
    "???"
   ]
  }
 ],
 "metadata": {
  "kernelspec": {
   "display_name": "Python 3",
   "language": "python",
   "name": "python3"
  },
  "language_info": {
   "codemirror_mode": {
    "name": "ipython",
    "version": 3
   },
   "file_extension": ".py",
   "mimetype": "text/x-python",
   "name": "python",
   "nbconvert_exporter": "python",
   "pygments_lexer": "ipython3",
   "version": "3.6.4"
  }
 },
 "nbformat": 4,
 "nbformat_minor": 2
}
