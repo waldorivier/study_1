{
 "cells": [
  {
   "cell_type": "markdown",
   "metadata": {},
   "source": [
    "# Exercise - Ridge regression"
   ]
  },
  {
   "cell_type": "markdown",
   "metadata": {},
   "source": [
    "## Exercise - Regularize polynomial regression\n",
    "\n",
    "> **Exercise**: Load the data and add the polynomial features (degree 10). Split the data into train and test sets (80-20 train/test split with `random_state=0`). Fit a linear regression and a ridge regression (default alpha value of 1). Compare the MSE scores on the train/test sets. Plot the two models."
   ]
  },
  {
   "cell_type": "code",
   "execution_count": null,
   "metadata": {
    "collapsed": true
   },
   "outputs": [],
   "source": [
    "# Load data\n",
    "???"
   ]
  },
  {
   "cell_type": "code",
   "execution_count": null,
   "metadata": {},
   "outputs": [],
   "source": [
    "# Add polynomial features\n",
    "???\n",
    "\n",
    "# Split intro train/test sets\n",
    "???"
   ]
  },
  {
   "cell_type": "code",
   "execution_count": null,
   "metadata": {},
   "outputs": [],
   "source": [
    "# Fit a linear regression\n",
    "???\n",
    "\n",
    "# Fit a ridge regression\n",
    "???\n",
    "\n",
    "# Compare MSE scores on train/test sets\n",
    "???\n",
    "\n",
    "# Plot models\n",
    "???"
   ]
  },
  {
   "cell_type": "markdown",
   "metadata": {},
   "source": [
    "## Exercise - Tune Ridge regression\n",
    "\n",
    "> **Exercise**: Tune the regularization strength $\\alpha$ of your ridge regression using grid search. Plot the validation curves. Print the train/test scores of the best alpha value. Plot your model."
   ]
  },
  {
   "cell_type": "code",
   "execution_count": null,
   "metadata": {},
   "outputs": [],
   "source": [
    "# Tune alpha with grid search\n",
    "???\n",
    "\n",
    "# Plot validation curves\n",
    "???"
   ]
  },
  {
   "cell_type": "code",
   "execution_count": null,
   "metadata": {},
   "outputs": [],
   "source": [
    "# Find best alpha\n",
    "???\n",
    "\n",
    "# Print train/test scores\n",
    "???"
   ]
  },
  {
   "cell_type": "code",
   "execution_count": null,
   "metadata": {},
   "outputs": [],
   "source": [
    "# Plot model\n",
    "???"
   ]
  }
 ],
 "metadata": {
  "kernelspec": {
   "display_name": "Python 3",
   "language": "python",
   "name": "python3"
  },
  "language_info": {
   "codemirror_mode": {
    "name": "ipython",
    "version": 3
   },
   "file_extension": ".py",
   "mimetype": "text/x-python",
   "name": "python",
   "nbconvert_exporter": "python",
   "pygments_lexer": "ipython3",
   "version": "3.6.2"
  }
 },
 "nbformat": 4,
 "nbformat_minor": 2
}
