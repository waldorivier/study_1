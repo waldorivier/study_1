{
 "cells": [
  {
   "cell_type": "markdown",
   "metadata": {},
   "source": [
    "# SOLUTION NOTEBOOK\n",
    "\n",
    "---"
   ]
  },
  {
   "cell_type": "markdown",
   "metadata": {},
   "source": [
    "# Polyfit on the bike sharing data set"
   ]
  },
  {
   "cell_type": "markdown",
   "metadata": {},
   "source": [
    "## Exercise: Load the data set\n",
    "\n",
    "> **Exercise**: Create the x/y **Numpy arrays**. The feature vector x should contain the temperature values. The target vector y should contain the number of users.\n",
    "\n",
    "**Self-assessment**: You can run the test cell below."
   ]
  },
  {
   "cell_type": "code",
   "execution_count": 1,
   "metadata": {},
   "outputs": [
    {
     "name": "stdout",
     "output_type": "stream",
     "text": [
      "x: <class 'numpy.ndarray'> (302,) float64 [ 0.1964  0.2     0.227   0.2043  0.1508]\n",
      "y: <class 'numpy.ndarray'> (302,) int64 [120 108  82  88  41]\n"
     ]
    }
   ],
   "source": [
    "import pandas as pd\n",
    "import os\n",
    "\n",
    "# Load the data into a Pandas DataFrame\n",
    "data_df = pd.read_csv(os.path.join('data', 'bike-sharing-simple.csv'))\n",
    "\n",
    "# Extract the x/y Numpy arrays\n",
    "x = data_df.temp.values\n",
    "y = data_df.users.values\n",
    "\n",
    "print('x:', type(x), x.shape, x.dtype, x[:5])\n",
    "print('y:', type(y), y.shape, y.dtype, y[:5])"
   ]
  },
  {
   "cell_type": "markdown",
   "metadata": {},
   "source": [
    "Test cell"
   ]
  },
  {
   "cell_type": "code",
   "execution_count": 2,
   "metadata": {},
   "outputs": [
    {
     "name": "stdout",
     "output_type": "stream",
     "text": [
      "tests passed!\n"
     ]
    }
   ],
   "source": [
    "import numpy as np\n",
    "\n",
    "# Some test cases\n",
    "assert type(x) == np.ndarray, 'x should be a Numpy array'\n",
    "assert type(y) == np.ndarray, 'y should be a Numpy array'\n",
    "assert x.shape == (302,), 'the shape of x should be (302,)'\n",
    "assert y.shape == (302,), 'the shape of y should be (302,)'\n",
    "\n",
    "print('tests passed!')"
   ]
  },
  {
   "cell_type": "markdown",
   "metadata": {},
   "source": [
    "## Exercise: Fit a polynomial\n",
    "\n",
    "> **Exercise**: (A) Fit a polynomial using the Numpy `polyfit()` function. You should test different degrees. (B) Print the optimal coefficients. (C) Plot the polynomial."
   ]
  },
  {
   "cell_type": "code",
   "execution_count": 3,
   "metadata": {},
   "outputs": [
    {
     "name": "stdout",
     "output_type": "stream",
     "text": [
      "Coefficients: [ -8918.34020762  10259.76298372  -1491.58834515     56.90113664]\n"
     ]
    },
    {
     "data": {
      "image/png": "[encoded data removed]",
      "text/plain": [
       "<matplotlib.figure.Figure at 0x10d698780>"
      ]
     },
     "metadata": {},
     "output_type": "display_data"
    }
   ],
   "source": [
    "# (A) Fit a polynomial\n",
    "coefs = np.polyfit(x, y, deg=3)\n",
    "\n",
    "# (B) Print coefficients\n",
    "print('Coefficients:', coefs)\n",
    "\n",
    "# (C) Plot the polynomial\n",
    "# Generate a hundred data points between min(x) and max(x)\n",
    "x_values = np.linspace(min(x), max(x), num=100)\n",
    "\n",
    "# Compute predictions for these sample data points\n",
    "y_values = np.polyval(coefs, x_values)\n",
    "\n",
    "# Plot the polynomial\n",
    "%matplotlib inline\n",
    "import matplotlib.pyplot as plt\n",
    "\n",
    "plt.scatter(x, y)\n",
    "plt.plot(x_values, y_values, color='red', label='polyfit(x, y, deg=3)')\n",
    "plt.legend()\n",
    "plt.xlabel('temperatures')\n",
    "plt.ylabel('number of users')\n",
    "plt.show()"
   ]
  },
  {
   "cell_type": "markdown",
   "metadata": {},
   "source": [
    "## Exercise: Evaluate your model\n",
    "\n",
    "The RSS measure depends on the total number of data points since we sum the squared error over all data points. In practice, we prefer to have a measure that is independent of the number of observations. To achieve this, we can replace the sum by a mean, and we obtain the Mean Squared Error (MSE) measure.\n",
    "\n",
    "$$\n",
    "\\text{MSE}=\\frac{1}{n}\\sum_{i=1}^{n}\\left(y_{i}-\\hat{y}_{i}\\right)^{2}\n",
    "$$\n",
    "\n",
    "> **Exercise**: Implement the MSE measure.\n",
    "\n",
    "**Self-assessment**: You can run the test cell below."
   ]
  },
  {
   "cell_type": "code",
   "execution_count": 4,
   "metadata": {
    "collapsed": true
   },
   "outputs": [],
   "source": [
    "def MSE(y, y_pred):\n",
    "    return np.mean(np.square(y - y_pred))"
   ]
  },
  {
   "cell_type": "code",
   "execution_count": 5,
   "metadata": {},
   "outputs": [
    {
     "name": "stdout",
     "output_type": "stream",
     "text": [
      "tests passed!\n"
     ]
    }
   ],
   "source": [
    "from numpy.testing import assert_almost_equal\n",
    "\n",
    "y_test = np.array([1, 2, 3])\n",
    "y_test_pred1 = np.array([1, 2, 3])\n",
    "y_test_pred2 = np.array([1, 5, 3])\n",
    "y_test_pred3 = np.array([1, 5, 6])\n",
    "\n",
    "assert_almost_equal(MSE(y_test, y_test_pred1), 0, decimal=5)\n",
    "assert_almost_equal(MSE(y_test, y_test_pred2), 3 , decimal=5)\n",
    "assert_almost_equal(MSE(y_test, y_test_pred3), 6, decimal=5)\n",
    "\n",
    "print('tests passed!')"
   ]
  },
  {
   "cell_type": "markdown",
   "metadata": {},
   "source": [
    "MSE can still be a large number since we measure squared errors. One solution is to take the square root of MSE to obtain the Root Mean Squared Error (RMSE).\n",
    "\n",
    "$$\n",
    "\\text{RMSE}=\\sqrt{\\text{MSE}}\n",
    "$$\n",
    "\n",
    "> **Exercise**: Compute the estimated values `y_pred` for the data points `x`. Print the RMSE score.\n",
    "\n",
    "**Self-assessment**: The RMSE value should be between 207 and 235 depending on the degree of your polynomial."
   ]
  },
  {
   "cell_type": "code",
   "execution_count": 6,
   "metadata": {},
   "outputs": [
    {
     "name": "stdout",
     "output_type": "stream",
     "text": [
      "MSE score: 207.959415287\n"
     ]
    }
   ],
   "source": [
    "# Compute predictions\n",
    "y_pred = np.polyval(coefs, x)\n",
    "\n",
    "# Print RMSE score\n",
    "rmse = np.sqrt(MSE(y, y_pred))\n",
    "print('MSE score:', rmse)"
   ]
  }
 ],
 "metadata": {
  "kernelspec": {
   "display_name": "Python 3",
   "language": "python",
   "name": "python3"
  },
  "language_info": {
   "codemirror_mode": {
    "name": "ipython",
    "version": 3
   },
   "file_extension": ".py",
   "mimetype": "text/x-python",
   "name": "python",
   "nbconvert_exporter": "python",
   "pygments_lexer": "ipython3",
   "version": "3.6.4"
  }
 },
 "nbformat": 4,
 "nbformat_minor": 2
}
